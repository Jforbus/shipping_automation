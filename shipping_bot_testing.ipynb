{
  "cells": [
    {
      "cell_type": "markdown",
      "metadata": {
        "id": "tjVZjSTPq7uI"
      },
      "source": [
        "## Install packages\n",
        "GSpread to handle google sheets <br>\n",
        "Pandas and Numpy for data handling and analysis <br>\n",
        "Pyplot for visuals <br>\n",
        "google.colab.auth for authentications <br>\n"
      ]
    },
    {
      "cell_type": "code",
      "execution_count": 1,
      "metadata": {
        "id": "nX1PmtVSgfK_"
      },
      "outputs": [],
      "source": [
        "#!pip install jupyter_datatables -q\n",
        "#%pip install skimpy\n",
        "import gspread_dataframe as gd\n",
        "import gspread as gs\n",
        "import pandas as pd\n",
        "import numpy as np\n",
        "import matplotlib.pyplot as plt\n",
        "#from jupyter_datatables import init_datatables_mode\n",
        "# from google.colab import auth\n",
        "# from google.auth import default\n",
        "from skimpy import skim\n",
        "from datetime import date\n",
        "import time"
      ]
    },
    {
      "cell_type": "code",
      "execution_count": null,
      "metadata": {
        "id": "SAWFp-kFy-6s"
      },
      "outputs": [],
      "source": [
        "#init_datatables_mode()"
      ]
    },
    {
      "cell_type": "markdown",
      "metadata": {
        "id": "P1I2iPtOq4go"
      },
      "source": [
        "## Authenticate with Google Sheets\n",
        "use the authenticate_user() function from google.colab.auth to authenticate on your Google Sheets account and pass the credentials to GSpread using gs.authorize()"
      ]
    },
    {
      "cell_type": "code",
      "execution_count": null,
      "metadata": {
        "id": "n0vBhWRctXxq"
      },
      "outputs": [],
      "source": [
        "auth.authenticate_user() # prompts google sign in\n",
        "creds, _ = default() # get default credentials from auth\n",
        "\n",
        "gc = gs.authorize(creds) # pass credentials to gspread"
      ]
    },
    {
      "cell_type": "markdown",
      "metadata": {
        "id": "wG3RGIZ5vMvP"
      },
      "source": [
        "### Sheet URLS"
      ]
    },
    {
      "cell_type": "code",
      "execution_count": 2,
      "metadata": {
        "id": "yFzkxbvmol7n"
      },
      "outputs": [],
      "source": [
        "VI = 'https://docs.google.com/spreadsheets/d/1bKwL32NDnkvZQdiba4pqfvvGDkqh9CBO3akwBV-uJEc/edit#gid=27' # Production Data, Input Sheet\n",
        "LM = 'https://docs.google.com/spreadsheets/d/1vP8FzyoRfl1bnO4kSQa6t2xg5RdN4w8u0RAbd6rPzEM/edit#gid=0' # Shipping Data, Output Sheet for Cali Shipping Operations"
      ]
    },
    {
      "cell_type": "code",
      "execution_count": 3,
      "metadata": {
        "id": "xe5MfAQxDZ_s"
      },
      "outputs": [],
      "source": [
        "# helper function for handling gsheets using gspread_dataframe\n",
        "# has 3 modes, w - write: replace existing sheet data, a - append: keep existing data and add new\n",
        "# r - read: read data from gsheets\n",
        "# https://stackoverflow.com/questions/45540827/appending-pandas-data-frame-to-google-spreadsheet\n",
        "\n",
        "\n",
        "def pandas_to_sheets(url,ws_name,df=None,mode='r'):\n",
        "\n",
        "    # helper function for handling gsheets using gspread and gspread_dataframe\n",
        "    # has 3 modes, w - write: replace existing sheet data, a - append: keep existing data and add new\n",
        "    # r - read: read data from gsheets\n",
        "    # https://stackoverflow.com/questions/45540827/appending-pandas-data-frame-to-google-spreadsheet\n",
        "\n",
        "\n",
        "    ws = gc.open_by_url(url).worksheet(ws_name) # open worksheet by GSheet URL and worksheet name\n",
        "    # clear and write new data to worsheet\n",
        "    if(mode=='w'):\n",
        "        ws.clear()\n",
        "        gd.set_with_dataframe(worksheet=ws,dataframe=df,include_index=False,include_column_header=True,resize=True)\n",
        "        return True\n",
        "    # append new data to existing data in worksheet\n",
        "    elif(mode=='a'):\n",
        "        ws.add_rows(df.shape[0])\n",
        "        gd.set_with_dataframe(worksheet=ws,dataframe=df,include_index=False,include_column_header=False,row=len(ws.get_all_values())+1,resize=False)\n",
        "        return True\n",
        "    # get data from worksheet as df, here including only necessary columns for shipping robot.\n",
        "    else:\n",
        "        return gd.get_as_dataframe(worksheet=ws,usecols=[2,3,4,5,9,15,16,20,22], header=1)"
      ]
    },
    {
      "cell_type": "markdown",
      "metadata": {
        "id": "lxGnQfdtv6uA"
      },
      "source": [
        "## Collect Data\n",
        "Open VI spreadsheet and load data to pandas using created function"
      ]
    },
    {
      "cell_type": "code",
      "execution_count": 3,
      "metadata": {
        "id": "sfLr40QvNfWx"
      },
      "outputs": [],
      "source": [
        "from functions import pandas_to_sheets\n",
        "vi_df = pandas_to_sheets(VI,\"PR\") # get production data from gsheets using helper function\n",
        "vi_df.fillna(\"\",inplace=True) # Remove Nonetypes"
      ]
    },
    {
      "cell_type": "code",
      "execution_count": null,
      "metadata": {
        "id": "0Y2wQmHmv6WH"
      },
      "outputs": [],
      "source": [
        "# this uses gspread vanilla and creates the dataframe from a selection of rows\n",
        "# code within pandas_to_sheets accomplishes this in a single line\n",
        "\n",
        "\n",
        "# vi_sh = gc.open_by_url(VI) # Open Workbook\n",
        "# vi_sh = vi_sh.worksheet('PR') # Select Worksheet\n",
        "# vi_df = pd.DataFrame(vi_sh.get('B2:W900')) # Select Range for Import or use get_all_records()\n",
        "# vi_df.columns = vi_df.iloc[0] # Set Header Row\n",
        "# vi_df = vi_df[1:].copy() # Drop Duplicate Row\n",
        "# vi_df.fillna(\"\",inplace=True) # Remove Nonetypes"
      ]
    },
    {
      "cell_type": "code",
      "execution_count": 5,
      "metadata": {
        "id": "xIrbEaX6Js2f"
      },
      "outputs": [
        {
          "ename": "IndexError",
          "evalue": "list index out of range",
          "output_type": "error",
          "traceback": [
            "\u001b[1;31m---------------------------------------------------------------------------\u001b[0m",
            "\u001b[1;31mIndexError\u001b[0m                                Traceback (most recent call last)",
            "\u001b[1;32m~\\AppData\\Local\\Temp\\ipykernel_34488\\2650369962.py\u001b[0m in \u001b[0;36m<module>\u001b[1;34m\u001b[0m\n\u001b[1;32m----> 1\u001b[1;33m \u001b[0mskim\u001b[0m\u001b[1;33m(\u001b[0m\u001b[0mvi_df\u001b[0m\u001b[1;33m)\u001b[0m\u001b[1;33m\u001b[0m\u001b[1;33m\u001b[0m\u001b[0m\n\u001b[0m",
            "\u001b[1;32mc:\\Users\\jacob\\anaconda3\\envs\\PythonData\\lib\\site-packages\\typeguard\\__init__.py\u001b[0m in \u001b[0;36mwrapper\u001b[1;34m(*args, **kwargs)\u001b[0m\n\u001b[0;32m   1031\u001b[0m         \u001b[0mmemo\u001b[0m \u001b[1;33m=\u001b[0m \u001b[0m_CallMemo\u001b[0m\u001b[1;33m(\u001b[0m\u001b[0mpython_func\u001b[0m\u001b[1;33m,\u001b[0m \u001b[0m_localns\u001b[0m\u001b[1;33m,\u001b[0m \u001b[0margs\u001b[0m\u001b[1;33m=\u001b[0m\u001b[0margs\u001b[0m\u001b[1;33m,\u001b[0m \u001b[0mkwargs\u001b[0m\u001b[1;33m=\u001b[0m\u001b[0mkwargs\u001b[0m\u001b[1;33m)\u001b[0m\u001b[1;33m\u001b[0m\u001b[1;33m\u001b[0m\u001b[0m\n\u001b[0;32m   1032\u001b[0m         \u001b[0mcheck_argument_types\u001b[0m\u001b[1;33m(\u001b[0m\u001b[0mmemo\u001b[0m\u001b[1;33m)\u001b[0m\u001b[1;33m\u001b[0m\u001b[1;33m\u001b[0m\u001b[0m\n\u001b[1;32m-> 1033\u001b[1;33m         \u001b[0mretval\u001b[0m \u001b[1;33m=\u001b[0m \u001b[0mfunc\u001b[0m\u001b[1;33m(\u001b[0m\u001b[1;33m*\u001b[0m\u001b[0margs\u001b[0m\u001b[1;33m,\u001b[0m \u001b[1;33m**\u001b[0m\u001b[0mkwargs\u001b[0m\u001b[1;33m)\u001b[0m\u001b[1;33m\u001b[0m\u001b[1;33m\u001b[0m\u001b[0m\n\u001b[0m\u001b[0;32m   1034\u001b[0m         \u001b[1;32mtry\u001b[0m\u001b[1;33m:\u001b[0m\u001b[1;33m\u001b[0m\u001b[1;33m\u001b[0m\u001b[0m\n\u001b[0;32m   1035\u001b[0m             \u001b[0mcheck_return_type\u001b[0m\u001b[1;33m(\u001b[0m\u001b[0mretval\u001b[0m\u001b[1;33m,\u001b[0m \u001b[0mmemo\u001b[0m\u001b[1;33m)\u001b[0m\u001b[1;33m\u001b[0m\u001b[1;33m\u001b[0m\u001b[0m\n",
            "\u001b[1;32mc:\\Users\\jacob\\anaconda3\\envs\\PythonData\\lib\\site-packages\\skimpy\\__init__.py\u001b[0m in \u001b[0;36mskim\u001b[1;34m(df, header_style, **colour_kwargs)\u001b[0m\n\u001b[0;32m    543\u001b[0m         \u001b[0mgrid\u001b[0m\u001b[1;33m.\u001b[0m\u001b[0madd_row\u001b[0m\u001b[1;33m(\u001b[0m\u001b[0msum_tab\u001b[0m\u001b[1;33m)\u001b[0m\u001b[1;33m\u001b[0m\u001b[1;33m\u001b[0m\u001b[0m\n\u001b[0;32m    544\u001b[0m     \u001b[1;31m# Weirdly, iteration over list of tabs misses last entry\u001b[0m\u001b[1;33m\u001b[0m\u001b[1;33m\u001b[0m\u001b[1;33m\u001b[0m\u001b[0m\n\u001b[1;32m--> 545\u001b[1;33m     \u001b[0mgrid\u001b[0m\u001b[1;33m.\u001b[0m\u001b[0madd_row\u001b[0m\u001b[1;33m(\u001b[0m\u001b[0mlist_of_tabs\u001b[0m\u001b[1;33m[\u001b[0m\u001b[1;33m-\u001b[0m\u001b[1;36m1\u001b[0m\u001b[1;33m]\u001b[0m\u001b[1;33m)\u001b[0m\u001b[1;33m\u001b[0m\u001b[1;33m\u001b[0m\u001b[0m\n\u001b[0m\u001b[0;32m    546\u001b[0m     \u001b[0mconsole\u001b[0m\u001b[1;33m.\u001b[0m\u001b[0mprint\u001b[0m\u001b[1;33m(\u001b[0m\u001b[0mPanel\u001b[0m\u001b[1;33m(\u001b[0m\u001b[0mgrid\u001b[0m\u001b[1;33m,\u001b[0m \u001b[0mtitle\u001b[0m\u001b[1;33m=\u001b[0m\u001b[1;34m\"skimpy summary\"\u001b[0m\u001b[1;33m,\u001b[0m \u001b[0msubtitle\u001b[0m\u001b[1;33m=\u001b[0m\u001b[1;34m\"End\"\u001b[0m\u001b[1;33m)\u001b[0m\u001b[1;33m)\u001b[0m\u001b[1;33m\u001b[0m\u001b[1;33m\u001b[0m\u001b[0m\n\u001b[0;32m    547\u001b[0m \u001b[1;33m\u001b[0m\u001b[0m\n",
            "\u001b[1;31mIndexError\u001b[0m: list index out of range"
          ]
        }
      ],
      "source": [
        "# skim(vi_df)"
      ]
    },
    {
      "cell_type": "markdown",
      "metadata": {
        "id": "WXE7zPJu86Py"
      },
      "source": [
        "Drop unecessary columns"
      ]
    },
    {
      "cell_type": "code",
      "execution_count": null,
      "metadata": {
        "id": "xCJ3aXz189dm"
      },
      "outputs": [],
      "source": [
        "# deprecated by pandas_to_sheets\n",
        "\n",
        "# vi_df.rename(columns={'® = REVISED' : 'Build'}, inplace=True) # rename first column\n",
        "# c = ['VIN #', 'Body Type', 'Truck Type', 'Customer','Notes','Est. Ship Date', \\\n",
        "#      'Delivery Cost', 'Shipper', 'Shipping Arranger', \\\n",
        "#      'Pick up #', 'Shipping Address' ] # Select Columns to Keep\n",
        "# inv_df = vi_df[c].copy() # Copy Columns to Keep to new DF\n",
        "# inv_df.replace(r'^\\s*$', np.NaN, regex=True, inplace=True) # Fill Empty Cells with NaN"
      ]
    },
    {
      "cell_type": "code",
      "execution_count": 9,
      "metadata": {},
      "outputs": [
        {
          "data": {
            "text/html": [
              "<div>\n",
              "<style scoped>\n",
              "    .dataframe tbody tr th:only-of-type {\n",
              "        vertical-align: middle;\n",
              "    }\n",
              "\n",
              "    .dataframe tbody tr th {\n",
              "        vertical-align: top;\n",
              "    }\n",
              "\n",
              "    .dataframe thead th {\n",
              "        text-align: right;\n",
              "    }\n",
              "</style>\n",
              "<table border=\"1\" class=\"dataframe\">\n",
              "  <thead>\n",
              "    <tr style=\"text-align: right;\">\n",
              "      <th></th>\n",
              "      <th>VIN #</th>\n",
              "      <th>Body Type</th>\n",
              "      <th>Truck Type</th>\n",
              "      <th>Customer</th>\n",
              "      <th>Notes</th>\n",
              "      <th>Est. Ship Date</th>\n",
              "      <th>Delivery Cost</th>\n",
              "      <th>Shipping Arranger</th>\n",
              "      <th>Shipping Address</th>\n",
              "    </tr>\n",
              "  </thead>\n",
              "  <tbody>\n",
              "    <tr>\n",
              "      <th>55</th>\n",
              "      <td></td>\n",
              "      <td></td>\n",
              "      <td></td>\n",
              "      <td></td>\n",
              "      <td></td>\n",
              "      <td></td>\n",
              "      <td></td>\n",
              "      <td></td>\n",
              "      <td></td>\n",
              "    </tr>\n",
              "    <tr>\n",
              "      <th>56</th>\n",
              "      <td></td>\n",
              "      <td></td>\n",
              "      <td></td>\n",
              "      <td></td>\n",
              "      <td></td>\n",
              "      <td></td>\n",
              "      <td></td>\n",
              "      <td></td>\n",
              "      <td></td>\n",
              "    </tr>\n",
              "    <tr>\n",
              "      <th>57</th>\n",
              "      <td>352800</td>\n",
              "      <td>2000 SS TANK - NFPA</td>\n",
              "      <td>KW380ABPX7AT33124</td>\n",
              "      <td>DEREK ZAGARELLA - MURRIETTA, CA</td>\n",
              "      <td>2/22 DEPOSIT RECVD</td>\n",
              "      <td></td>\n",
              "      <td>0</td>\n",
              "      <td>WILL CALL</td>\n",
              "      <td>23748 CLOVERLEAF WAY, MURRIETTA, CA 92562</td>\n",
              "    </tr>\n",
              "    <tr>\n",
              "      <th>58</th>\n",
              "      <td>TBD</td>\n",
              "      <td>2000 TANK</td>\n",
              "      <td>F750HBPOWAT26084</td>\n",
              "      <td>ARNOLD MACHINERY - N. LAS VEGAS, NV</td>\n",
              "      <td>3/2 purchase docs sent for signatures, missing...</td>\n",
              "      <td></td>\n",
              "      <td>0</td>\n",
              "      <td>WILL CALL</td>\n",
              "      <td>4136 DONOVAN WAY, N. LAS VEGAS, NV 89030</td>\n",
              "    </tr>\n",
              "    <tr>\n",
              "      <th>59</th>\n",
              "      <td></td>\n",
              "      <td></td>\n",
              "      <td></td>\n",
              "      <td></td>\n",
              "      <td></td>\n",
              "      <td></td>\n",
              "      <td></td>\n",
              "      <td></td>\n",
              "      <td></td>\n",
              "    </tr>\n",
              "    <tr>\n",
              "      <th>60</th>\n",
              "      <td></td>\n",
              "      <td></td>\n",
              "      <td></td>\n",
              "      <td></td>\n",
              "      <td>vsdgg</td>\n",
              "      <td></td>\n",
              "      <td></td>\n",
              "      <td></td>\n",
              "      <td></td>\n",
              "    </tr>\n",
              "    <tr>\n",
              "      <th>61</th>\n",
              "      <td></td>\n",
              "      <td></td>\n",
              "      <td></td>\n",
              "      <td></td>\n",
              "      <td></td>\n",
              "      <td></td>\n",
              "      <td></td>\n",
              "      <td></td>\n",
              "      <td></td>\n",
              "    </tr>\n",
              "    <tr>\n",
              "      <th>62</th>\n",
              "      <td>1FDNF7DC0PDF02247</td>\n",
              "      <td>10' DW DUMP *CUSTOM PAINT*</td>\n",
              "      <td>F750HBPOWAT26084</td>\n",
              "      <td>W.M LYLES - STOCKTON, CA</td>\n",
              "      <td>3/7 rec'd check (hold 3-5 days) 3/6 shippin...</td>\n",
              "      <td></td>\n",
              "      <td>1900</td>\n",
              "      <td>TBD</td>\n",
              "      <td>2500 NAVY DR, STOCKTON, CA 95206</td>\n",
              "    </tr>\n",
              "    <tr>\n",
              "      <th>63</th>\n",
              "      <td>1FDPF7DC5PDF02169</td>\n",
              "      <td>2000 TANK *CUSTOM PAINT*</td>\n",
              "      <td>F750HBPOWAT26084</td>\n",
              "      <td>W.M LYLES - SANTEE, CA</td>\n",
              "      <td>3/6 updated invoice sent to customer, missing ...</td>\n",
              "      <td></td>\n",
              "      <td>1000</td>\n",
              "      <td>VALEW</td>\n",
              "      <td>12001 FANITA PARKWAY, SANTEE CA 92071</td>\n",
              "    </tr>\n",
              "    <tr>\n",
              "      <th>64</th>\n",
              "      <td>1FDNF7DC2PDF02251</td>\n",
              "      <td>10' DW DUMP *CUSTOM PAINT*</td>\n",
              "      <td>F750HBPOWAT26084</td>\n",
              "      <td>ARI / UNITED - HAMPTON, VA</td>\n",
              "      <td>UNITED PO 18082049, 3/6 shipping docs ready</td>\n",
              "      <td>03/08/23</td>\n",
              "      <td>6200</td>\n",
              "      <td>VALEW</td>\n",
              "      <td>2327 W PEMBROKE, AVE HAMPTON, VA 23661</td>\n",
              "    </tr>\n",
              "    <tr>\n",
              "      <th>65</th>\n",
              "      <td>1FDNF7DC7PDF02245</td>\n",
              "      <td>10' DUMP</td>\n",
              "      <td>F750HBPOWAT26084</td>\n",
              "      <td>ARI / UNITED - SPARTANBURG, SC</td>\n",
              "      <td>UNITED PO 18078897, 3/6 shipping docs ready</td>\n",
              "      <td>03/08/23</td>\n",
              "      <td>5695</td>\n",
              "      <td>VALEW</td>\n",
              "      <td>210 SUN AND SAND RD SPARTANBURG, SC 29303</td>\n",
              "    </tr>\n",
              "    <tr>\n",
              "      <th>66</th>\n",
              "      <td>1003529</td>\n",
              "      <td>TK-2.5-AC-10</td>\n",
              "      <td>TANK KIT</td>\n",
              "      <td>MORRICO EQUIPMENT - LONG BEACH, CA</td>\n",
              "      <td>3/2 followed up on docs and funds 2/27 asked s...</td>\n",
              "      <td></td>\n",
              "      <td></td>\n",
              "      <td>????</td>\n",
              "      <td>1521 PIER C ST, LONG BEACH, CA 90813</td>\n",
              "    </tr>\n",
              "    <tr>\n",
              "      <th>67</th>\n",
              "      <td>3ALHCYFE3PDNV6613</td>\n",
              "      <td>4000 TANK</td>\n",
              "      <td>M2106ABISLAT58132</td>\n",
              "      <td>CASHMAN EQUIPMENT - HENDERSON, NV</td>\n",
              "      <td>2/27 rec'd signed docs</td>\n",
              "      <td></td>\n",
              "      <td>1600</td>\n",
              "      <td>VALEW</td>\n",
              "      <td>3300 SAINT ROSE PARKWAY, HENDERSON NV 89052</td>\n",
              "    </tr>\n",
              "    <tr>\n",
              "      <th>68</th>\n",
              "      <td>3ALHCYFE5PDNV6628</td>\n",
              "      <td>4000 TANK</td>\n",
              "      <td>M2106ABISLAT58132</td>\n",
              "      <td>CASHMAN EQUIPMENT - HENDERSON, NV</td>\n",
              "      <td>2/27 rec'd signed docs</td>\n",
              "      <td></td>\n",
              "      <td>1600</td>\n",
              "      <td>VALEW</td>\n",
              "      <td>3300 SAINT ROSE PARKWAY, HENDERSON NV 89052</td>\n",
              "    </tr>\n",
              "    <tr>\n",
              "      <th>69</th>\n",
              "      <td>1FDNF7DCXPDF02224</td>\n",
              "      <td>10' DUMP</td>\n",
              "      <td>F750HBPOWAT26084</td>\n",
              "      <td>ARI / UNITED - ALEXANDRA, LA</td>\n",
              "      <td>UNITED PO 18078843, 3/8 shipping docs ready</td>\n",
              "      <td></td>\n",
              "      <td>4600</td>\n",
              "      <td>VALEW</td>\n",
              "      <td>846 DALLAS AVENUE ALEXANDRIA, LA 71302</td>\n",
              "    </tr>\n",
              "  </tbody>\n",
              "</table>\n",
              "</div>"
            ],
            "text/plain": [
              "                VIN #                   Body Type         Truck Type  \\\n",
              "55                                                                     \n",
              "56                                                                     \n",
              "57             352800        2000 SS TANK - NFPA   KW380ABPX7AT33124   \n",
              "58               TBD                   2000 TANK    F750HBPOWAT26084   \n",
              "59                                                                     \n",
              "60                                                                     \n",
              "61                                                                     \n",
              "62  1FDNF7DC0PDF02247  10' DW DUMP *CUSTOM PAINT*   F750HBPOWAT26084   \n",
              "63  1FDPF7DC5PDF02169    2000 TANK *CUSTOM PAINT*   F750HBPOWAT26084   \n",
              "64  1FDNF7DC2PDF02251  10' DW DUMP *CUSTOM PAINT*   F750HBPOWAT26084   \n",
              "65  1FDNF7DC7PDF02245                    10' DUMP   F750HBPOWAT26084   \n",
              "66            1003529                TK-2.5-AC-10           TANK KIT   \n",
              "67  3ALHCYFE3PDNV6613                   4000 TANK  M2106ABISLAT58132   \n",
              "68  3ALHCYFE5PDNV6628                   4000 TANK  M2106ABISLAT58132   \n",
              "69  1FDNF7DCXPDF02224                    10' DUMP   F750HBPOWAT26084   \n",
              "\n",
              "                                Customer  \\\n",
              "55                                         \n",
              "56                                         \n",
              "57       DEREK ZAGARELLA - MURRIETTA, CA   \n",
              "58  ARNOLD MACHINERY - N. LAS VEGAS, NV    \n",
              "59                                         \n",
              "60                                         \n",
              "61                                         \n",
              "62              W.M LYLES - STOCKTON, CA   \n",
              "63                W.M LYLES - SANTEE, CA   \n",
              "64            ARI / UNITED - HAMPTON, VA   \n",
              "65        ARI / UNITED - SPARTANBURG, SC   \n",
              "66    MORRICO EQUIPMENT - LONG BEACH, CA   \n",
              "67     CASHMAN EQUIPMENT - HENDERSON, NV   \n",
              "68     CASHMAN EQUIPMENT - HENDERSON, NV   \n",
              "69          ARI / UNITED - ALEXANDRA, LA   \n",
              "\n",
              "                                                Notes Est. Ship Date  \\\n",
              "55                                                                     \n",
              "56                                                                     \n",
              "57                                 2/22 DEPOSIT RECVD                  \n",
              "58  3/2 purchase docs sent for signatures, missing...                  \n",
              "59                                                                     \n",
              "60                                              vsdgg                  \n",
              "61                                                                     \n",
              "62     3/7 rec'd check (hold 3-5 days) 3/6 shippin...                  \n",
              "63  3/6 updated invoice sent to customer, missing ...                  \n",
              "64        UNITED PO 18082049, 3/6 shipping docs ready       03/08/23   \n",
              "65        UNITED PO 18078897, 3/6 shipping docs ready       03/08/23   \n",
              "66  3/2 followed up on docs and funds 2/27 asked s...                  \n",
              "67                             2/27 rec'd signed docs                  \n",
              "68                             2/27 rec'd signed docs                  \n",
              "69        UNITED PO 18078843, 3/8 shipping docs ready                  \n",
              "\n",
              "   Delivery Cost Shipping Arranger  \\\n",
              "55                                   \n",
              "56                                   \n",
              "57             0         WILL CALL   \n",
              "58             0         WILL CALL   \n",
              "59                                   \n",
              "60                                   \n",
              "61                                   \n",
              "62          1900               TBD   \n",
              "63          1000             VALEW   \n",
              "64          6200             VALEW   \n",
              "65          5695             VALEW   \n",
              "66                            ????   \n",
              "67          1600             VALEW   \n",
              "68          1600             VALEW   \n",
              "69          4600             VALEW   \n",
              "\n",
              "                               Shipping Address  \n",
              "55                                               \n",
              "56                                               \n",
              "57    23748 CLOVERLEAF WAY, MURRIETTA, CA 92562  \n",
              "58     4136 DONOVAN WAY, N. LAS VEGAS, NV 89030  \n",
              "59                                               \n",
              "60                                               \n",
              "61                                               \n",
              "62             2500 NAVY DR, STOCKTON, CA 95206  \n",
              "63        12001 FANITA PARKWAY, SANTEE CA 92071  \n",
              "64       2327 W PEMBROKE, AVE HAMPTON, VA 23661  \n",
              "65    210 SUN AND SAND RD SPARTANBURG, SC 29303  \n",
              "66         1521 PIER C ST, LONG BEACH, CA 90813  \n",
              "67  3300 SAINT ROSE PARKWAY, HENDERSON NV 89052  \n",
              "68  3300 SAINT ROSE PARKWAY, HENDERSON NV 89052  \n",
              "69       846 DALLAS AVENUE ALEXANDRIA, LA 71302  "
            ]
          },
          "execution_count": 9,
          "metadata": {},
          "output_type": "execute_result"
        }
      ],
      "source": [
        "vi_df.iloc[55:70]"
      ]
    },
    {
      "cell_type": "markdown",
      "metadata": {
        "id": "3YUc8sFhDGAA"
      },
      "source": [
        "Select Cali and TX Completed Units and Seperate into Individual DFs"
      ]
    },
    {
      "cell_type": "code",
      "execution_count": 4,
      "metadata": {
        "id": "r1QGDzII9AvM"
      },
      "outputs": [],
      "source": [
        "ca_start = vi_df[vi_df['Shipping Arranger'].str.match('V_START', na=False)].index[0] # find start of CA Completed units\n",
        "cdf = vi_df.iloc[ca_start+2:] # remove data before selection\n",
        "ca_end = cdf[cdf['VIN #'] == ''].index[0] # find end of CA Completed units\n",
        "ca_df = vi_df.iloc[ca_start+2:ca_end].copy() # Select CA Completed Units into new DF"
      ]
    },
    {
      "cell_type": "code",
      "execution_count": 7,
      "metadata": {},
      "outputs": [
        {
          "ename": "IndexError",
          "evalue": "list index out of range",
          "output_type": "error",
          "traceback": [
            "\u001b[1;31m---------------------------------------------------------------------------\u001b[0m",
            "\u001b[1;31mIndexError\u001b[0m                                Traceback (most recent call last)",
            "\u001b[1;32m~\\AppData\\Local\\Temp\\ipykernel_34488\\3426622129.py\u001b[0m in \u001b[0;36m<module>\u001b[1;34m\u001b[0m\n\u001b[1;32m----> 1\u001b[1;33m \u001b[0mskim\u001b[0m\u001b[1;33m(\u001b[0m\u001b[0mca_df\u001b[0m\u001b[1;33m)\u001b[0m\u001b[1;33m\u001b[0m\u001b[1;33m\u001b[0m\u001b[0m\n\u001b[0m",
            "\u001b[1;32mc:\\Users\\jacob\\anaconda3\\envs\\PythonData\\lib\\site-packages\\typeguard\\__init__.py\u001b[0m in \u001b[0;36mwrapper\u001b[1;34m(*args, **kwargs)\u001b[0m\n\u001b[0;32m   1031\u001b[0m         \u001b[0mmemo\u001b[0m \u001b[1;33m=\u001b[0m \u001b[0m_CallMemo\u001b[0m\u001b[1;33m(\u001b[0m\u001b[0mpython_func\u001b[0m\u001b[1;33m,\u001b[0m \u001b[0m_localns\u001b[0m\u001b[1;33m,\u001b[0m \u001b[0margs\u001b[0m\u001b[1;33m=\u001b[0m\u001b[0margs\u001b[0m\u001b[1;33m,\u001b[0m \u001b[0mkwargs\u001b[0m\u001b[1;33m=\u001b[0m\u001b[0mkwargs\u001b[0m\u001b[1;33m)\u001b[0m\u001b[1;33m\u001b[0m\u001b[1;33m\u001b[0m\u001b[0m\n\u001b[0;32m   1032\u001b[0m         \u001b[0mcheck_argument_types\u001b[0m\u001b[1;33m(\u001b[0m\u001b[0mmemo\u001b[0m\u001b[1;33m)\u001b[0m\u001b[1;33m\u001b[0m\u001b[1;33m\u001b[0m\u001b[0m\n\u001b[1;32m-> 1033\u001b[1;33m         \u001b[0mretval\u001b[0m \u001b[1;33m=\u001b[0m \u001b[0mfunc\u001b[0m\u001b[1;33m(\u001b[0m\u001b[1;33m*\u001b[0m\u001b[0margs\u001b[0m\u001b[1;33m,\u001b[0m \u001b[1;33m**\u001b[0m\u001b[0mkwargs\u001b[0m\u001b[1;33m)\u001b[0m\u001b[1;33m\u001b[0m\u001b[1;33m\u001b[0m\u001b[0m\n\u001b[0m\u001b[0;32m   1034\u001b[0m         \u001b[1;32mtry\u001b[0m\u001b[1;33m:\u001b[0m\u001b[1;33m\u001b[0m\u001b[1;33m\u001b[0m\u001b[0m\n\u001b[0;32m   1035\u001b[0m             \u001b[0mcheck_return_type\u001b[0m\u001b[1;33m(\u001b[0m\u001b[0mretval\u001b[0m\u001b[1;33m,\u001b[0m \u001b[0mmemo\u001b[0m\u001b[1;33m)\u001b[0m\u001b[1;33m\u001b[0m\u001b[1;33m\u001b[0m\u001b[0m\n",
            "\u001b[1;32mc:\\Users\\jacob\\anaconda3\\envs\\PythonData\\lib\\site-packages\\skimpy\\__init__.py\u001b[0m in \u001b[0;36mskim\u001b[1;34m(df, header_style, **colour_kwargs)\u001b[0m\n\u001b[0;32m    543\u001b[0m         \u001b[0mgrid\u001b[0m\u001b[1;33m.\u001b[0m\u001b[0madd_row\u001b[0m\u001b[1;33m(\u001b[0m\u001b[0msum_tab\u001b[0m\u001b[1;33m)\u001b[0m\u001b[1;33m\u001b[0m\u001b[1;33m\u001b[0m\u001b[0m\n\u001b[0;32m    544\u001b[0m     \u001b[1;31m# Weirdly, iteration over list of tabs misses last entry\u001b[0m\u001b[1;33m\u001b[0m\u001b[1;33m\u001b[0m\u001b[1;33m\u001b[0m\u001b[0m\n\u001b[1;32m--> 545\u001b[1;33m     \u001b[0mgrid\u001b[0m\u001b[1;33m.\u001b[0m\u001b[0madd_row\u001b[0m\u001b[1;33m(\u001b[0m\u001b[0mlist_of_tabs\u001b[0m\u001b[1;33m[\u001b[0m\u001b[1;33m-\u001b[0m\u001b[1;36m1\u001b[0m\u001b[1;33m]\u001b[0m\u001b[1;33m)\u001b[0m\u001b[1;33m\u001b[0m\u001b[1;33m\u001b[0m\u001b[0m\n\u001b[0m\u001b[0;32m    546\u001b[0m     \u001b[0mconsole\u001b[0m\u001b[1;33m.\u001b[0m\u001b[0mprint\u001b[0m\u001b[1;33m(\u001b[0m\u001b[0mPanel\u001b[0m\u001b[1;33m(\u001b[0m\u001b[0mgrid\u001b[0m\u001b[1;33m,\u001b[0m \u001b[0mtitle\u001b[0m\u001b[1;33m=\u001b[0m\u001b[1;34m\"skimpy summary\"\u001b[0m\u001b[1;33m,\u001b[0m \u001b[0msubtitle\u001b[0m\u001b[1;33m=\u001b[0m\u001b[1;34m\"End\"\u001b[0m\u001b[1;33m)\u001b[0m\u001b[1;33m)\u001b[0m\u001b[1;33m\u001b[0m\u001b[1;33m\u001b[0m\u001b[0m\n\u001b[0;32m    547\u001b[0m \u001b[1;33m\u001b[0m\u001b[0m\n",
            "\u001b[1;31mIndexError\u001b[0m: list index out of range"
          ]
        }
      ],
      "source": [
        "# skim(ca_df)"
      ]
    },
    {
      "cell_type": "code",
      "execution_count": 5,
      "metadata": {
        "id": "-dpUCZOrfLzJ"
      },
      "outputs": [],
      "source": [
        "tx_start = vi_df[vi_df['VIN #'].str.match('COMPLETED EAST', na=False)].index[0] # find start of TX Completed units\n",
        "tdf = vi_df.iloc[tx_start+1:] # remove data before selection\n",
        "tx_end = tdf[tdf['VIN #'] == ''].index[0] # find end of TX Completed units\n",
        "tx_df = vi_df.iloc[tx_start+1:tx_end].copy() # Select TX Completed Units into new DF\n"
      ]
    },
    {
      "cell_type": "code",
      "execution_count": 7,
      "metadata": {},
      "outputs": [
        {
          "data": {
            "text/html": [
              "<div>\n",
              "<style scoped>\n",
              "    .dataframe tbody tr th:only-of-type {\n",
              "        vertical-align: middle;\n",
              "    }\n",
              "\n",
              "    .dataframe tbody tr th {\n",
              "        vertical-align: top;\n",
              "    }\n",
              "\n",
              "    .dataframe thead th {\n",
              "        text-align: right;\n",
              "    }\n",
              "</style>\n",
              "<table border=\"1\" class=\"dataframe\">\n",
              "  <thead>\n",
              "    <tr style=\"text-align: right;\">\n",
              "      <th></th>\n",
              "      <th>VIN #</th>\n",
              "      <th>Body Type</th>\n",
              "      <th>Truck Type</th>\n",
              "      <th>Customer</th>\n",
              "      <th>Notes</th>\n",
              "      <th>Est. Ship Date</th>\n",
              "      <th>Delivery Cost</th>\n",
              "      <th>Shipping Arranger</th>\n",
              "      <th>Shipping Address</th>\n",
              "    </tr>\n",
              "  </thead>\n",
              "  <tbody>\n",
              "    <tr>\n",
              "      <th>126</th>\n",
              "      <td>1003527</td>\n",
              "      <td>TK-4000-AC</td>\n",
              "      <td>TANK KIT</td>\n",
              "      <td>MARTIN MARIETA - SANTA MARIA, CA</td>\n",
              "      <td>3/7 final invoice freight sent</td>\n",
              "      <td></td>\n",
              "      <td>3475</td>\n",
              "      <td>1954 MFG</td>\n",
              "      <td>1341 WEST MCCOY LN, SANTA MARIA, CA 93455</td>\n",
              "    </tr>\n",
              "    <tr>\n",
              "      <th>127</th>\n",
              "      <td>3ALHCYFE7PDNW2690</td>\n",
              "      <td>4000 TANK</td>\n",
              "      <td>M2106ABISLAT58132</td>\n",
              "      <td>4 RIVERS - FARMINGTON, NM</td>\n",
              "      <td>3/7 paid in full, ready to be picked up</td>\n",
              "      <td></td>\n",
              "      <td></td>\n",
              "      <td>WILL CALL</td>\n",
              "      <td></td>\n",
              "    </tr>\n",
              "    <tr>\n",
              "      <th>128</th>\n",
              "      <td>1FDNF7DC9PDF12940</td>\n",
              "      <td>10' DW DUMP</td>\n",
              "      <td>F750HBPOWAT26084</td>\n",
              "      <td>VANDALIA RENTAL - VANDALIA, OH</td>\n",
              "      <td>3/7 rec'd signed docs, missing funds   DOCS SE...</td>\n",
              "      <td></td>\n",
              "      <td>0</td>\n",
              "      <td>WILL CALL</td>\n",
              "      <td>11063 ENGLE ROAD, VANDALIA, OH 45377</td>\n",
              "    </tr>\n",
              "    <tr>\n",
              "      <th>129</th>\n",
              "      <td>1FDNF7DC0PDF12941</td>\n",
              "      <td>10' DW DUMP</td>\n",
              "      <td>F750HBPOWAT26084</td>\n",
              "      <td>VANDALIA RENTAL - VANDALIA, OH</td>\n",
              "      <td>3/7 rec'd signed docs, missing funds   DOCS SE...</td>\n",
              "      <td></td>\n",
              "      <td>0</td>\n",
              "      <td>WILL CALL</td>\n",
              "      <td>11063 ENGLE ROAD, VANDALIA, OH 45377</td>\n",
              "    </tr>\n",
              "    <tr>\n",
              "      <th>130</th>\n",
              "      <td>WT12K23023</td>\n",
              "      <td>WATER TOWER</td>\n",
              "      <td>WATER TOWER</td>\n",
              "      <td>UNITED RENTALS - HENDERSON, CO</td>\n",
              "      <td>2/2 signed docs rcvd, ready to ship 3/9</td>\n",
              "      <td></td>\n",
              "      <td>1915</td>\n",
              "      <td>1954 MFG</td>\n",
              "      <td>9700 ALTON WAY, HENDERSON, CO. 80640</td>\n",
              "    </tr>\n",
              "  </tbody>\n",
              "</table>\n",
              "</div>"
            ],
            "text/plain": [
              "                 VIN #    Body Type         Truck Type  \\\n",
              "126            1003527   TK-4000-AC           TANK KIT   \n",
              "127  3ALHCYFE7PDNW2690    4000 TANK  M2106ABISLAT58132   \n",
              "128  1FDNF7DC9PDF12940  10' DW DUMP   F750HBPOWAT26084   \n",
              "129  1FDNF7DC0PDF12941  10' DW DUMP   F750HBPOWAT26084   \n",
              "130         WT12K23023  WATER TOWER        WATER TOWER   \n",
              "\n",
              "                             Customer  \\\n",
              "126  MARTIN MARIETA - SANTA MARIA, CA   \n",
              "127         4 RIVERS - FARMINGTON, NM   \n",
              "128    VANDALIA RENTAL - VANDALIA, OH   \n",
              "129    VANDALIA RENTAL - VANDALIA, OH   \n",
              "130    UNITED RENTALS - HENDERSON, CO   \n",
              "\n",
              "                                                 Notes Est. Ship Date  \\\n",
              "126                     3/7 final invoice freight sent                  \n",
              "127            3/7 paid in full, ready to be picked up                  \n",
              "128  3/7 rec'd signed docs, missing funds   DOCS SE...                  \n",
              "129  3/7 rec'd signed docs, missing funds   DOCS SE...                  \n",
              "130            2/2 signed docs rcvd, ready to ship 3/9                  \n",
              "\n",
              "    Delivery Cost Shipping Arranger                           Shipping Address  \n",
              "126          3475          1954 MFG  1341 WEST MCCOY LN, SANTA MARIA, CA 93455  \n",
              "127                       WILL CALL                                             \n",
              "128             0         WILL CALL       11063 ENGLE ROAD, VANDALIA, OH 45377  \n",
              "129             0         WILL CALL       11063 ENGLE ROAD, VANDALIA, OH 45377  \n",
              "130          1915          1954 MFG       9700 ALTON WAY, HENDERSON, CO. 80640  "
            ]
          },
          "execution_count": 7,
          "metadata": {},
          "output_type": "execute_result"
        }
      ],
      "source": [
        "tx_df.tail()"
      ]
    },
    {
      "cell_type": "code",
      "execution_count": 8,
      "metadata": {},
      "outputs": [],
      "source": [
        "ca_df['Origin'] = [\"CA\" for x in range(len(ca_df))]\n",
        "tx_df['Origin'] = [\"TX\" for x in range(len(tx_df))]"
      ]
    },
    {
      "cell_type": "code",
      "execution_count": 9,
      "metadata": {},
      "outputs": [
        {
          "data": {
            "text/html": [
              "<div>\n",
              "<style scoped>\n",
              "    .dataframe tbody tr th:only-of-type {\n",
              "        vertical-align: middle;\n",
              "    }\n",
              "\n",
              "    .dataframe tbody tr th {\n",
              "        vertical-align: top;\n",
              "    }\n",
              "\n",
              "    .dataframe thead th {\n",
              "        text-align: right;\n",
              "    }\n",
              "</style>\n",
              "<table border=\"1\" class=\"dataframe\">\n",
              "  <thead>\n",
              "    <tr style=\"text-align: right;\">\n",
              "      <th></th>\n",
              "      <th>VIN #</th>\n",
              "      <th>Body Type</th>\n",
              "      <th>Truck Type</th>\n",
              "      <th>Customer</th>\n",
              "      <th>Notes</th>\n",
              "      <th>Est. Ship Date</th>\n",
              "      <th>Delivery Cost</th>\n",
              "      <th>Shipping Arranger</th>\n",
              "      <th>Shipping Address</th>\n",
              "      <th>Origin</th>\n",
              "    </tr>\n",
              "  </thead>\n",
              "  <tbody>\n",
              "    <tr>\n",
              "      <th>66</th>\n",
              "      <td>1FDNF7DC0PDF02247</td>\n",
              "      <td>10' DW DUMP *CUSTOM PAINT*</td>\n",
              "      <td>F750HBPOWAT26084</td>\n",
              "      <td>W.M LYLES - STOCKTON, CA</td>\n",
              "      <td>3/7 rec'd check (hold 3-5 days) 3/6 shippin...</td>\n",
              "      <td>03/13/23</td>\n",
              "      <td>1900</td>\n",
              "      <td>VALEW</td>\n",
              "      <td>2500 NAVY DR, STOCKTON, CA 95206</td>\n",
              "      <td>CA</td>\n",
              "    </tr>\n",
              "    <tr>\n",
              "      <th>67</th>\n",
              "      <td>1FDPF7DC5PDF02169</td>\n",
              "      <td>2000 TANK *CUSTOM PAINT*</td>\n",
              "      <td>F750HBPOWAT26084</td>\n",
              "      <td>W.M LYLES - SANTEE, CA</td>\n",
              "      <td>3/8 rec'd originals, missing funds</td>\n",
              "      <td></td>\n",
              "      <td>1000</td>\n",
              "      <td>VALEW</td>\n",
              "      <td>12001 FANITA PARKWAY, SANTEE CA 92071</td>\n",
              "      <td>CA</td>\n",
              "    </tr>\n",
              "    <tr>\n",
              "      <th>68</th>\n",
              "      <td>1FDNF7DC2PDF02251</td>\n",
              "      <td>10' DW DUMP *CUSTOM PAINT*</td>\n",
              "      <td>F750HBPOWAT26084</td>\n",
              "      <td>ARI / UNITED - HAMPTON, VA</td>\n",
              "      <td>UNITED PO 18082049, 3/6 shipping docs ready</td>\n",
              "      <td>03/09/23</td>\n",
              "      <td>6200</td>\n",
              "      <td>VALEW</td>\n",
              "      <td>2327 W PEMBROKE, AVE HAMPTON, VA 23661</td>\n",
              "      <td>CA</td>\n",
              "    </tr>\n",
              "    <tr>\n",
              "      <th>69</th>\n",
              "      <td>3ALHCYFE5PDNV6628</td>\n",
              "      <td>4000 TANK</td>\n",
              "      <td>M2106ABISLAT58132</td>\n",
              "      <td>CASHMAN EQUIPMENT - HENDERSON, NV</td>\n",
              "      <td>3/8 shipping docs ready</td>\n",
              "      <td>03/10/23</td>\n",
              "      <td>1600</td>\n",
              "      <td>VALEW</td>\n",
              "      <td>3300 SAINT ROSE PARKWAY, HENDERSON NV 89052</td>\n",
              "      <td>CA</td>\n",
              "    </tr>\n",
              "    <tr>\n",
              "      <th>70</th>\n",
              "      <td>1FDNF7DCXPDF02224</td>\n",
              "      <td>10' DUMP</td>\n",
              "      <td>F750HBPOWAT26084</td>\n",
              "      <td>ARI / UNITED - ALEXANDRA, LA</td>\n",
              "      <td>UNITED PO 18078843, 3/8 shipping docs ready</td>\n",
              "      <td>03/09/23</td>\n",
              "      <td>4600</td>\n",
              "      <td>VALEW</td>\n",
              "      <td>846 DALLAS AVENUE ALEXANDRIA, LA 71302</td>\n",
              "      <td>CA</td>\n",
              "    </tr>\n",
              "  </tbody>\n",
              "</table>\n",
              "</div>"
            ],
            "text/plain": [
              "                VIN #                   Body Type         Truck Type  \\\n",
              "66  1FDNF7DC0PDF02247  10' DW DUMP *CUSTOM PAINT*   F750HBPOWAT26084   \n",
              "67  1FDPF7DC5PDF02169    2000 TANK *CUSTOM PAINT*   F750HBPOWAT26084   \n",
              "68  1FDNF7DC2PDF02251  10' DW DUMP *CUSTOM PAINT*   F750HBPOWAT26084   \n",
              "69  3ALHCYFE5PDNV6628                   4000 TANK  M2106ABISLAT58132   \n",
              "70  1FDNF7DCXPDF02224                    10' DUMP   F750HBPOWAT26084   \n",
              "\n",
              "                             Customer  \\\n",
              "66           W.M LYLES - STOCKTON, CA   \n",
              "67             W.M LYLES - SANTEE, CA   \n",
              "68         ARI / UNITED - HAMPTON, VA   \n",
              "69  CASHMAN EQUIPMENT - HENDERSON, NV   \n",
              "70       ARI / UNITED - ALEXANDRA, LA   \n",
              "\n",
              "                                                Notes Est. Ship Date  \\\n",
              "66     3/7 rec'd check (hold 3-5 days) 3/6 shippin...       03/13/23   \n",
              "67                3/8 rec'd originals, missing funds                   \n",
              "68        UNITED PO 18082049, 3/6 shipping docs ready       03/09/23   \n",
              "69                           3/8 shipping docs ready        03/10/23   \n",
              "70        UNITED PO 18078843, 3/8 shipping docs ready       03/09/23   \n",
              "\n",
              "   Delivery Cost Shipping Arranger  \\\n",
              "66          1900             VALEW   \n",
              "67          1000             VALEW   \n",
              "68          6200             VALEW   \n",
              "69          1600             VALEW   \n",
              "70          4600             VALEW   \n",
              "\n",
              "                               Shipping Address Origin  \n",
              "66             2500 NAVY DR, STOCKTON, CA 95206     CA  \n",
              "67        12001 FANITA PARKWAY, SANTEE CA 92071     CA  \n",
              "68       2327 W PEMBROKE, AVE HAMPTON, VA 23661     CA  \n",
              "69  3300 SAINT ROSE PARKWAY, HENDERSON NV 89052     CA  \n",
              "70       846 DALLAS AVENUE ALEXANDRIA, LA 71302     CA  "
            ]
          },
          "execution_count": 9,
          "metadata": {},
          "output_type": "execute_result"
        }
      ],
      "source": [
        "joined_df = ca_df.append(tx_df)\n",
        "joined_df.head()"
      ]
    },
    {
      "cell_type": "markdown",
      "metadata": {
        "id": "Maz4RoE5C7EQ"
      },
      "source": [
        "Filter out Will Call and other units not ready for shipping"
      ]
    },
    {
      "cell_type": "code",
      "execution_count": 10,
      "metadata": {
        "id": "nAWiEaXb9ogR"
      },
      "outputs": [],
      "source": [
        "# Filter DFs to only include ready to ship units that have not been scheduled\n",
        "ca_df['Notes'] = ca_df['Notes'].str.lower() # lowercase for string matching\n",
        "ca_df = ca_df[(ca_df['Notes'].str.contains('shipping docs ready|ready to ship')) & (ca_df['Shipping Arranger'] != 'WILL CALL') & (ca_df['Est. Ship Date'] == \"\")] # filter DF\n",
        "\n",
        "tx_df['Notes'] = tx_df['Notes'].str.lower() # lowercase for string matching\n",
        "tx_df = tx_df[(tx_df['Notes'].str.contains('shipping docs ready|ready to ship')) & (tx_df['Shipping Arranger'] != 'WILL CALL') & (tx_df['Est. Ship Date'] == \"\")] # filter DF\n",
        "\n",
        "ca_qty = len(ca_df)\n",
        "tx_qty = len(tx_df)"
      ]
    },
    {
      "cell_type": "code",
      "execution_count": 11,
      "metadata": {
        "id": "4CWyLiNlxLYM"
      },
      "outputs": [],
      "source": [
        "# remove duplicate location info from customer column\n",
        "ca_df['Customer'] = ca_df[\"Customer\"].str.extract(r'(.*-)')\n",
        "tx_df['Customer'] = tx_df[\"Customer\"].str.extract(r'(.*-)')"
      ]
    },
    {
      "cell_type": "markdown",
      "metadata": {
        "id": "2p7Qzsg7DMrr"
      },
      "source": [
        "# Create Shipping Tables"
      ]
    },
    {
      "cell_type": "code",
      "execution_count": 12,
      "metadata": {
        "id": "3lXP64PyKrXr"
      },
      "outputs": [],
      "source": [
        "# reference dictionaries\n",
        "\n",
        "# dictionary of Dimensions\n",
        "dims = {\n",
        "    \"4000\" : \"35'L x 8'W x 10'H x 22,000lbs\",\n",
        "    \"2000\" : \"25'L x 8'W x 9'H x 15,000lbs\",\n",
        "    \"10\" : \"25'L x 8'W x 9'H x 15,000lbs\",\n",
        "    \"15\" : \"30'L x 8'W x 9'H x 15,000lbs\",\n",
        "    \"WATER TOWER\" : \"36'L x 8'W x 13'H x 19,500lbs\"\n",
        "}\n",
        "# dictionary of Models\n",
        "models = {\n",
        "    \"MA\" : \"MACK\",\n",
        "    \"M2\" : \"FRLR\",\n",
        "    \"SD\" : \"FRLR\",\n",
        "    \"F7\" : \"FORD\",\n",
        "    \"F5\" : \"FORD\",\n",
        "    \"F6\" : \"FORD\",\n",
        "    \"KW\" : \"KW\",\n",
        "    \"PB\" : \"PB\",\n",
        "    \"INT\" : \"INT\"\n",
        "}\n",
        "# dictionary of Axle quantities\n",
        "axles = {\n",
        "    \"132\" : \"3-Axle\",\n",
        "    \"084\" : \"2-Axle\",\n",
        "    \"096\" : \"2-Axle\",\n",
        "    \"108\" : \"2-Axle\",\n",
        "    \"120\" : \"2-Axle\",\n",
        "    \"168\" : \"2-Axle\",\n",
        "    \"170\" : \"2-Axle\" \n",
        "}\n",
        "\n",
        "origins = {\n",
        "    \"TX\" : \"1954 MFG - 4688 SH-16, GRAHAM, TX 76450\",\n",
        "    \"CA\" : \"VALEW - 12522 VIOLET RD, ADELANTO, CA 92301\"\n",
        "}"
      ]
    },
    {
      "cell_type": "code",
      "execution_count": 14,
      "metadata": {
        "colab": {
          "base_uri": "https://localhost:8080/"
        },
        "id": "uKhnAGqN__lm",
        "outputId": "27eded8d-0bfa-4c64-e2a1-87121d460b29"
      },
      "outputs": [
        {
          "data": {
            "text/html": [
              "<div>\n",
              "<style scoped>\n",
              "    .dataframe tbody tr th:only-of-type {\n",
              "        vertical-align: middle;\n",
              "    }\n",
              "\n",
              "    .dataframe tbody tr th {\n",
              "        vertical-align: top;\n",
              "    }\n",
              "\n",
              "    .dataframe thead th {\n",
              "        text-align: right;\n",
              "    }\n",
              "</style>\n",
              "<table border=\"1\" class=\"dataframe\">\n",
              "  <thead>\n",
              "    <tr style=\"text-align: right;\">\n",
              "      <th></th>\n",
              "      <th>VIN #</th>\n",
              "      <th>Body Type</th>\n",
              "      <th>Truck Type</th>\n",
              "      <th>Customer</th>\n",
              "      <th>Notes</th>\n",
              "      <th>Est. Ship Date</th>\n",
              "      <th>Delivery Cost</th>\n",
              "      <th>Shipping Arranger</th>\n",
              "      <th>Shipping Address</th>\n",
              "      <th>Origin</th>\n",
              "    </tr>\n",
              "  </thead>\n",
              "  <tbody>\n",
              "    <tr>\n",
              "      <th>66</th>\n",
              "      <td>1FDNF7DC0PDF02247</td>\n",
              "      <td>10' DW DUMP *CUSTOM PAINT*</td>\n",
              "      <td>F750HBPOWAT26084</td>\n",
              "      <td>W.M LYLES - STOCKTON, CA</td>\n",
              "      <td>3/7 rec'd check (hold 3-5 days) 3/6 shippin...</td>\n",
              "      <td>03/13/23</td>\n",
              "      <td>1900</td>\n",
              "      <td>VALEW</td>\n",
              "      <td>2500 NAVY DR, STOCKTON, CA 95206</td>\n",
              "      <td>CA</td>\n",
              "    </tr>\n",
              "    <tr>\n",
              "      <th>67</th>\n",
              "      <td>1FDPF7DC5PDF02169</td>\n",
              "      <td>2000 TANK *CUSTOM PAINT*</td>\n",
              "      <td>F750HBPOWAT26084</td>\n",
              "      <td>W.M LYLES - SANTEE, CA</td>\n",
              "      <td>3/8 rec'd originals, missing funds</td>\n",
              "      <td></td>\n",
              "      <td>1000</td>\n",
              "      <td>VALEW</td>\n",
              "      <td>12001 FANITA PARKWAY, SANTEE CA 92071</td>\n",
              "      <td>CA</td>\n",
              "    </tr>\n",
              "    <tr>\n",
              "      <th>68</th>\n",
              "      <td>1FDNF7DC2PDF02251</td>\n",
              "      <td>10' DW DUMP *CUSTOM PAINT*</td>\n",
              "      <td>F750HBPOWAT26084</td>\n",
              "      <td>ARI / UNITED - HAMPTON, VA</td>\n",
              "      <td>UNITED PO 18082049, 3/6 shipping docs ready</td>\n",
              "      <td>03/09/23</td>\n",
              "      <td>6200</td>\n",
              "      <td>VALEW</td>\n",
              "      <td>2327 W PEMBROKE, AVE HAMPTON, VA 23661</td>\n",
              "      <td>CA</td>\n",
              "    </tr>\n",
              "    <tr>\n",
              "      <th>69</th>\n",
              "      <td>3ALHCYFE5PDNV6628</td>\n",
              "      <td>4000 TANK</td>\n",
              "      <td>M2106ABISLAT58132</td>\n",
              "      <td>CASHMAN EQUIPMENT - HENDERSON, NV</td>\n",
              "      <td>3/8 shipping docs ready</td>\n",
              "      <td>03/10/23</td>\n",
              "      <td>1600</td>\n",
              "      <td>VALEW</td>\n",
              "      <td>3300 SAINT ROSE PARKWAY, HENDERSON NV 89052</td>\n",
              "      <td>CA</td>\n",
              "    </tr>\n",
              "    <tr>\n",
              "      <th>70</th>\n",
              "      <td>1FDNF7DCXPDF02224</td>\n",
              "      <td>10' DUMP</td>\n",
              "      <td>F750HBPOWAT26084</td>\n",
              "      <td>ARI / UNITED - ALEXANDRA, LA</td>\n",
              "      <td>UNITED PO 18078843, 3/8 shipping docs ready</td>\n",
              "      <td>03/09/23</td>\n",
              "      <td>4600</td>\n",
              "      <td>VALEW</td>\n",
              "      <td>846 DALLAS AVENUE ALEXANDRIA, LA 71302</td>\n",
              "      <td>CA</td>\n",
              "    </tr>\n",
              "  </tbody>\n",
              "</table>\n",
              "</div>"
            ],
            "text/plain": [
              "                VIN #                   Body Type         Truck Type  \\\n",
              "66  1FDNF7DC0PDF02247  10' DW DUMP *CUSTOM PAINT*   F750HBPOWAT26084   \n",
              "67  1FDPF7DC5PDF02169    2000 TANK *CUSTOM PAINT*   F750HBPOWAT26084   \n",
              "68  1FDNF7DC2PDF02251  10' DW DUMP *CUSTOM PAINT*   F750HBPOWAT26084   \n",
              "69  3ALHCYFE5PDNV6628                   4000 TANK  M2106ABISLAT58132   \n",
              "70  1FDNF7DCXPDF02224                    10' DUMP   F750HBPOWAT26084   \n",
              "\n",
              "                             Customer  \\\n",
              "66           W.M LYLES - STOCKTON, CA   \n",
              "67             W.M LYLES - SANTEE, CA   \n",
              "68         ARI / UNITED - HAMPTON, VA   \n",
              "69  CASHMAN EQUIPMENT - HENDERSON, NV   \n",
              "70       ARI / UNITED - ALEXANDRA, LA   \n",
              "\n",
              "                                                Notes Est. Ship Date  \\\n",
              "66     3/7 rec'd check (hold 3-5 days) 3/6 shippin...       03/13/23   \n",
              "67                3/8 rec'd originals, missing funds                   \n",
              "68        UNITED PO 18082049, 3/6 shipping docs ready       03/09/23   \n",
              "69                           3/8 shipping docs ready        03/10/23   \n",
              "70        UNITED PO 18078843, 3/8 shipping docs ready       03/09/23   \n",
              "\n",
              "   Delivery Cost Shipping Arranger  \\\n",
              "66          1900             VALEW   \n",
              "67          1000             VALEW   \n",
              "68          6200             VALEW   \n",
              "69          1600             VALEW   \n",
              "70          4600             VALEW   \n",
              "\n",
              "                               Shipping Address Origin  \n",
              "66             2500 NAVY DR, STOCKTON, CA 95206     CA  \n",
              "67        12001 FANITA PARKWAY, SANTEE CA 92071     CA  \n",
              "68       2327 W PEMBROKE, AVE HAMPTON, VA 23661     CA  \n",
              "69  3300 SAINT ROSE PARKWAY, HENDERSON NV 89052     CA  \n",
              "70       846 DALLAS AVENUE ALEXANDRIA, LA 71302     CA  "
            ]
          },
          "execution_count": 14,
          "metadata": {},
          "output_type": "execute_result"
        }
      ],
      "source": [
        "joined_df.head()"
      ]
    },
    {
      "cell_type": "code",
      "execution_count": 13,
      "metadata": {
        "colab": {
          "base_uri": "https://localhost:8080/",
          "height": 128
        },
        "id": "31RrrDTx25vx",
        "outputId": "259b0173-753a-47e5-9057-23e95a846caf"
      },
      "outputs": [
        {
          "name": "stdout",
          "output_type": "stream",
          "text": [
            "0.0010001659393310547\n"
          ]
        },
        {
          "data": {
            "text/html": [
              "<div>\n",
              "<style scoped>\n",
              "    .dataframe tbody tr th:only-of-type {\n",
              "        vertical-align: middle;\n",
              "    }\n",
              "\n",
              "    .dataframe tbody tr th {\n",
              "        vertical-align: top;\n",
              "    }\n",
              "\n",
              "    .dataframe thead th {\n",
              "        text-align: right;\n",
              "    }\n",
              "</style>\n",
              "<table border=\"1\" class=\"dataframe\">\n",
              "  <thead>\n",
              "    <tr style=\"text-align: right;\">\n",
              "      <th></th>\n",
              "    </tr>\n",
              "  </thead>\n",
              "  <tbody>\n",
              "  </tbody>\n",
              "</table>\n",
              "</div>"
            ],
            "text/plain": [
              "Empty DataFrame\n",
              "Columns: []\n",
              "Index: []"
            ]
          },
          "execution_count": 13,
          "metadata": {},
          "output_type": "execute_result"
        }
      ],
      "source": [
        "# create item descriptions\n",
        "import re\n",
        "a1 = time.time()\n",
        "test = []\n",
        "\n",
        "for row in ca_df.itertuples(index=False, name=None):\n",
        "  vin = row[0][-6:]\n",
        "  model = models[row[2][:2]]\n",
        "  axle = axles[row[2][-3:]]\n",
        "  item = f\"{model} {axle} TRUCK X 1\"\n",
        "  origin = origins['CA']\n",
        "  dest = f\"{row[3]} {row[-1]}\"\n",
        "  rate = row[6]\n",
        "  dim = dims[re.search(r'(^\\d+)|(WATER TOWER)', row[1])[0]]\n",
        "  rts = date.today().strftime(\"%m/%d/%Y\") \n",
        "\n",
        "  test.append({\"STATUS\":\"\", \"LOAD #\":\"\", \"VIN\" : vin, \"TOTAL DIMENSIONS\" : dim, \"ORIGIN\": origin, \"DESTINATION\" : dest,\n",
        "           \"ITEM DESCRIPTION\" : item, \"RATE\" : rate, \"READY TO SHIP\" : rts})\n",
        "test_df = pd.DataFrame(test)\n",
        "b1 = time.time()\n",
        "print(b1-a1)\n",
        "test_df.head()"
      ]
    },
    {
      "cell_type": "code",
      "execution_count": 18,
      "metadata": {
        "colab": {
          "base_uri": "https://localhost:8080/",
          "height": 128
        },
        "id": "hEg7O_3IXBJb",
        "outputId": "29ddcf92-8bf0-4e5e-c58e-61bd4ee42d6e"
      },
      "outputs": [
        {
          "name": "stdout",
          "output_type": "stream",
          "text": [
            "0.00793600082397461\n"
          ]
        },
        {
          "data": {
            "text/html": [
              "<div>\n",
              "<style scoped>\n",
              "    .dataframe tbody tr th:only-of-type {\n",
              "        vertical-align: middle;\n",
              "    }\n",
              "\n",
              "    .dataframe tbody tr th {\n",
              "        vertical-align: top;\n",
              "    }\n",
              "\n",
              "    .dataframe thead th {\n",
              "        text-align: right;\n",
              "    }\n",
              "</style>\n",
              "<table border=\"1\" class=\"dataframe\">\n",
              "  <thead>\n",
              "    <tr style=\"text-align: right;\">\n",
              "      <th></th>\n",
              "      <th>STATUS</th>\n",
              "      <th>LOAD #</th>\n",
              "      <th>VIN</th>\n",
              "      <th>TOTAL DIMENSIONS</th>\n",
              "      <th>ORIGIN</th>\n",
              "      <th>DESTINATION</th>\n",
              "      <th>ITEM DESCRIPTION</th>\n",
              "      <th>RATE</th>\n",
              "      <th>READY TO SHIP</th>\n",
              "    </tr>\n",
              "  </thead>\n",
              "  <tbody>\n",
              "  </tbody>\n",
              "</table>\n",
              "</div>"
            ],
            "text/plain": [
              "Empty DataFrame\n",
              "Columns: [STATUS, LOAD #, VIN, TOTAL DIMENSIONS, ORIGIN, DESTINATION, ITEM DESCRIPTION, RATE, READY TO SHIP]\n",
              "Index: []"
            ]
          },
          "execution_count": 18,
          "metadata": {},
          "output_type": "execute_result"
        }
      ],
      "source": [
        "# test perfomance of list comprehension to collect data and iterows. What is itertuples? Didnt need itertuples, solved with list comprehension,\n",
        "# still would like to time the operations of each for comparison\n",
        "a = time.time()\n",
        "# list comprehension\n",
        "ca_vins = [x[-6:] for x in ca_df['VIN #']] # extract last 6 digits of VIN #\n",
        "ca_dims = [dims[x] for x in ca_df['Body Type'].str.extract(r'(^\\d+)|(WATER TOWER)')[0]] # lookup dimensions for body style in created dict\n",
        "ca_dest = [x for x in ca_df[['Customer', 'Shipping Address']].apply(' '.join, axis=1)] # Comine Customer Name and Shipping Address for Destination Info\n",
        "ca_item = [f'{models[x[:2]]} {axles[x[-3:]]} Truck X 1' for x in ca_df['Truck Type']] # create item descriptions from lookups\n",
        "ca_rate = [x for x in ca_df['Delivery Cost']] # get delivery cost\n",
        "ca_rts = [date.today().strftime(\"%m/%d/%Y\") for x in range(len(ca_df))] # todays date\n",
        "ca_origin = [origins[\"CA\"] for x in range(len(ca_df))] # origin address\n",
        "ca_stat = ['TBD' for x in range(len(ca_df))]\n",
        "ca_id = ['TBD' for x in range(len(ca_df))]\n",
        "\n",
        "ca_dict = {\"STATUS\":\"\", \"LOAD #\":\"\", \"VIN\" : ca_vins, \"TOTAL DIMENSIONS\" : ca_dims, \"ORIGIN\": ca_origin, \"DESTINATION\" : ca_dest,\n",
        "           \"ITEM DESCRIPTION\" : ca_item, \"RATE\" : ca_rate, \"READY TO SHIP\" : ca_rts}\n",
        "\n",
        "ca_shipping = pd.DataFrame(ca_dict)\n",
        "b = time.time()\n",
        "print(b-a)\n",
        "ca_shipping.head(6)"
      ]
    },
    {
      "cell_type": "markdown",
      "metadata": {
        "id": "FUWIQj8XDa2W"
      },
      "source": [
        "Iterate through TX Completed DF, Create TX Shipping Info Table"
      ]
    },
    {
      "cell_type": "code",
      "execution_count": null,
      "metadata": {
        "colab": {
          "base_uri": "https://localhost:8080/"
        },
        "id": "qujBCftoD37M",
        "outputId": "7e65cd3d-4f36-4ac1-8c39-6f9ffbbda6d2"
      },
      "outputs": [
        {
          "data": {
            "text/plain": [
              "115"
            ]
          },
          "execution_count": 18,
          "metadata": {},
          "output_type": "execute_result"
        }
      ],
      "source": [
        "# last row for appending df\n",
        "ws = gc.open_by_url(CA_LM).worksheet(\"TX\")\n",
        "len(ws.get_all_values())+1"
      ]
    },
    {
      "cell_type": "markdown",
      "metadata": {
        "id": "WmRXpYoND6d9"
      },
      "source": [
        "Write new shipping info to Output Sheets. Avoid Duplicates."
      ]
    },
    {
      "cell_type": "code",
      "execution_count": null,
      "metadata": {
        "id": "bIY1-mxyEPri"
      },
      "outputs": [],
      "source": [
        "# https://stackoverflow.com/questions/5458048/how-can-i-make-a-python-script-standalone-executable-to-run-without-any-dependen\n",
        "# https://medium.com/@alexandre.tkint/send-pandas-data-frame-via-email-in-python-c346314321fa"
      ]
    },
    {
      "cell_type": "code",
      "execution_count": null,
      "metadata": {
        "id": "pOmZ4OPud8Ai"
      },
      "outputs": [],
      "source": [
        "q_df = pandas_to_sheets(VI,\"PR\") # get production data from gsheets using helper function\n",
        "q_df.fillna(\"\",inplace=True) # Remove Nonetypes"
      ]
    },
    {
      "cell_type": "code",
      "execution_count": null,
      "metadata": {
        "colab": {
          "base_uri": "https://localhost:8080/"
        },
        "id": "LIca-bFPEbQ3",
        "outputId": "73ced15a-41a5-449b-fc33-93cc04e9e755"
      },
      "outputs": [
        {
          "data": {
            "text/plain": [
              "VIN #                0\n",
              "Body Type            0\n",
              "Truck Type           0\n",
              "Customer             0\n",
              "Notes                0\n",
              "Est. Ship Date       0\n",
              "Delivery Cost        0\n",
              "Shipping Arranger    0\n",
              "Shipping Address     0\n",
              "dtype: int64"
            ]
          },
          "execution_count": 6,
          "metadata": {},
          "output_type": "execute_result"
        }
      ],
      "source": [
        "q_df.isna().sum()"
      ]
    },
    {
      "cell_type": "code",
      "execution_count": null,
      "metadata": {
        "id": "R-spYzaaeFeo"
      },
      "outputs": [],
      "source": [
        "# select rows where Delivery Cost is empty, Shipping arranger is Valew or 1954, Customer contains United, and Vin number is present\n",
        "\n",
        "q_df['Customer'] = q_df['Customer'].str.lower() # lowercase all letters for string matching\n",
        "q_df = q_df[(q_df['Customer'].str.contains('united')) & (q_df['Shipping Arranger'] != 'WILL CALL') & (q_df['Delivery Cost'].str.match(\"|TBD\")) & (q_df['VIN #'] != 'TBD')] # filter DF\n"
      ]
    },
    {
      "cell_type": "code",
      "execution_count": null,
      "metadata": {
        "colab": {
          "base_uri": "https://localhost:8080/",
          "height": 237
        },
        "id": "bco5fIm_iptV",
        "outputId": "72999106-c18c-4cfc-ba6c-29232c3f0565"
      },
      "outputs": [
        {
          "data": {
            "text/html": [
              "\n",
              "  <div id=\"df-8e56d2f9-06b6-4927-8f43-9be87e618b68\">\n",
              "    <div class=\"colab-df-container\">\n",
              "      <div>\n",
              "<style scoped>\n",
              "    .dataframe tbody tr th:only-of-type {\n",
              "        vertical-align: middle;\n",
              "    }\n",
              "\n",
              "    .dataframe tbody tr th {\n",
              "        vertical-align: top;\n",
              "    }\n",
              "\n",
              "    .dataframe thead th {\n",
              "        text-align: right;\n",
              "    }\n",
              "</style>\n",
              "<table border=\"1\" class=\"dataframe\">\n",
              "  <thead>\n",
              "    <tr style=\"text-align: right;\">\n",
              "      <th></th>\n",
              "      <th></th>\n",
              "      <th>VIN #</th>\n",
              "    </tr>\n",
              "    <tr>\n",
              "      <th>Customer</th>\n",
              "      <th>Body Type</th>\n",
              "      <th></th>\n",
              "    </tr>\n",
              "  </thead>\n",
              "  <tbody>\n",
              "    <tr>\n",
              "      <th rowspan=\"2\" valign=\"top\">ari / united - tbd</th>\n",
              "      <th>10' DUMP</th>\n",
              "      <td>3</td>\n",
              "    </tr>\n",
              "    <tr>\n",
              "      <th>2000 TANK</th>\n",
              "      <td>2</td>\n",
              "    </tr>\n",
              "    <tr>\n",
              "      <th>united rentals - henderson, co</th>\n",
              "      <th>WATER TOWER</th>\n",
              "      <td>6</td>\n",
              "    </tr>\n",
              "    <tr>\n",
              "      <th>united rentals - south salt lake city, ut</th>\n",
              "      <th>WATER TOWER</th>\n",
              "      <td>3</td>\n",
              "    </tr>\n",
              "    <tr>\n",
              "      <th>united rentals hold conexpo</th>\n",
              "      <th>WATER TOWER</th>\n",
              "      <td>1</td>\n",
              "    </tr>\n",
              "  </tbody>\n",
              "</table>\n",
              "</div>\n",
              "      <button class=\"colab-df-convert\" onclick=\"convertToInteractive('df-8e56d2f9-06b6-4927-8f43-9be87e618b68')\"\n",
              "              title=\"Convert this dataframe to an interactive table.\"\n",
              "              style=\"display:none;\">\n",
              "        \n",
              "  <svg xmlns=\"http://www.w3.org/2000/svg\" height=\"24px\"viewBox=\"0 0 24 24\"\n",
              "       width=\"24px\">\n",
              "    <path d=\"M0 0h24v24H0V0z\" fill=\"none\"/>\n",
              "    <path d=\"M18.56 5.44l.94 2.06.94-2.06 2.06-.94-2.06-.94-.94-2.06-.94 2.06-2.06.94zm-11 1L8.5 8.5l.94-2.06 2.06-.94-2.06-.94L8.5 2.5l-.94 2.06-2.06.94zm10 10l.94 2.06.94-2.06 2.06-.94-2.06-.94-.94-2.06-.94 2.06-2.06.94z\"/><path d=\"M17.41 7.96l-1.37-1.37c-.4-.4-.92-.59-1.43-.59-.52 0-1.04.2-1.43.59L10.3 9.45l-7.72 7.72c-.78.78-.78 2.05 0 2.83L4 21.41c.39.39.9.59 1.41.59.51 0 1.02-.2 1.41-.59l7.78-7.78 2.81-2.81c.8-.78.8-2.07 0-2.86zM5.41 20L4 18.59l7.72-7.72 1.47 1.35L5.41 20z\"/>\n",
              "  </svg>\n",
              "      </button>\n",
              "      \n",
              "  <style>\n",
              "    .colab-df-container {\n",
              "      display:flex;\n",
              "      flex-wrap:wrap;\n",
              "      gap: 12px;\n",
              "    }\n",
              "\n",
              "    .colab-df-convert {\n",
              "      background-color: #E8F0FE;\n",
              "      border: none;\n",
              "      border-radius: 50%;\n",
              "      cursor: pointer;\n",
              "      display: none;\n",
              "      fill: #1967D2;\n",
              "      height: 32px;\n",
              "      padding: 0 0 0 0;\n",
              "      width: 32px;\n",
              "    }\n",
              "\n",
              "    .colab-df-convert:hover {\n",
              "      background-color: #E2EBFA;\n",
              "      box-shadow: 0px 1px 2px rgba(60, 64, 67, 0.3), 0px 1px 3px 1px rgba(60, 64, 67, 0.15);\n",
              "      fill: #174EA6;\n",
              "    }\n",
              "\n",
              "    [theme=dark] .colab-df-convert {\n",
              "      background-color: #3B4455;\n",
              "      fill: #D2E3FC;\n",
              "    }\n",
              "\n",
              "    [theme=dark] .colab-df-convert:hover {\n",
              "      background-color: #434B5C;\n",
              "      box-shadow: 0px 1px 3px 1px rgba(0, 0, 0, 0.15);\n",
              "      filter: drop-shadow(0px 1px 2px rgba(0, 0, 0, 0.3));\n",
              "      fill: #FFFFFF;\n",
              "    }\n",
              "  </style>\n",
              "\n",
              "      <script>\n",
              "        const buttonEl =\n",
              "          document.querySelector('#df-8e56d2f9-06b6-4927-8f43-9be87e618b68 button.colab-df-convert');\n",
              "        buttonEl.style.display =\n",
              "          google.colab.kernel.accessAllowed ? 'block' : 'none';\n",
              "\n",
              "        async function convertToInteractive(key) {\n",
              "          const element = document.querySelector('#df-8e56d2f9-06b6-4927-8f43-9be87e618b68');\n",
              "          const dataTable =\n",
              "            await google.colab.kernel.invokeFunction('convertToInteractive',\n",
              "                                                     [key], {});\n",
              "          if (!dataTable) return;\n",
              "\n",
              "          const docLinkHtml = 'Like what you see? Visit the ' +\n",
              "            '<a target=\"_blank\" href=https://colab.research.google.com/notebooks/data_table.ipynb>data table notebook</a>'\n",
              "            + ' to learn more about interactive tables.';\n",
              "          element.innerHTML = '';\n",
              "          dataTable['output_type'] = 'display_data';\n",
              "          await google.colab.output.renderOutput(dataTable, element);\n",
              "          const docLink = document.createElement('div');\n",
              "          docLink.innerHTML = docLinkHtml;\n",
              "          element.appendChild(docLink);\n",
              "        }\n",
              "      </script>\n",
              "    </div>\n",
              "  </div>\n",
              "  "
            ],
            "text/plain": [
              "                                                       VIN #\n",
              "Customer                                  Body Type         \n",
              "ari / united - tbd                        10' DUMP         3\n",
              "                                          2000 TANK        2\n",
              "united rentals - henderson, co            WATER TOWER      6\n",
              "united rentals - south salt lake city, ut WATER TOWER      3\n",
              "united rentals hold conexpo               WATER TOWER      1"
            ]
          },
          "execution_count": 8,
          "metadata": {},
          "output_type": "execute_result"
        }
      ],
      "source": [
        "q_df = pd.DataFrame(q_df.groupby(['Customer','Body Type']).count()['VIN #'])\n",
        "q_df.head(30)"
      ]
    },
    {
      "cell_type": "markdown",
      "metadata": {
        "id": "5vxUYV-cY5jG"
      },
      "source": [
        "Emailing a DF\n",
        "\n",
        "wrap this up in a function and document it please\n",
        "\n",
        "https://mailtrap.io/blog/python-send-email-gmail/\n",
        "\n",
        "https://stackoverflow.com/questions/50564407/pandas-send-email-containing-dataframe-as-a-visual-table\n",
        "\n",
        "https://stackoverflow.com/questions/30314538/attaching-file-in-python-email"
      ]
    },
    {
      "cell_type": "code",
      "execution_count": null,
      "metadata": {
        "colab": {
          "base_uri": "https://localhost:8080/"
        },
        "id": "vwN175GeiqGq",
        "outputId": "c7686453-d9ee-4539-8609-e1d1ff30496f"
      },
      "outputs": [
        {
          "data": {
            "text/plain": [
              "(221,\n",
              " b'2.0.0 closing connection f24-20020ac840d8000000b003b7e8c04d2esm8059607qtm.64 - gsmtp')"
            ]
          },
          "execution_count": 11,
          "metadata": {},
          "output_type": "execute_result"
        }
      ],
      "source": [
        "import os\n",
        "from email.mime.text import MIMEText\n",
        "from email.mime.application import MIMEApplication\n",
        "from email.mime.multipart import MIMEMultipart\n",
        "# from email.mime.base import MIMEBase\n",
        "# from email import encoders\n",
        "import smtplib\n",
        "from io import StringIO\n",
        "# def gmail_df(sender, recipients, subject, df, password):\n",
        "\n",
        "sender = '1954jacobf@gmail.com'\n",
        "recipients = 'jacob@1954mfg.com'\n",
        "\n",
        "if type(recipients) == list:\n",
        "  emaillist = [elem.strip().split(',') for elem in recipients]\n",
        "else:\n",
        "  emaillist = recipients\n",
        "\n",
        "msg = MIMEMultipart()\n",
        "msg['Subject'] = \"To Quote\"\n",
        "msg['From'] = sender\n",
        "\n",
        "\n",
        "html = \"\"\"\\\n",
        "<html>\n",
        "  <head></head>\n",
        "  <body>\n",
        "    {0}\n",
        "  </body>\n",
        "</html>\n",
        "\"\"\".format(q_df.to_html())\n",
        "\n",
        "msg_txt = MIMEText(html, 'html')\n",
        "msg.attach(msg_txt)\n",
        "\n",
        "# q_df.to_csv(\"attachment.csv\")\n",
        "\n",
        "# with open(\"attachment.csv\", \"rb\") as attachment:\n",
        "#       # Add the attachment to the message\n",
        "#       msg_attach = MIMEBase(\"application\", \"octet-stream\")\n",
        "#       msg_attach.set_payload((attachment).read())\n",
        "# encoders.encode_base64(msg_attach)\n",
        "# msg_attach.add_header(\n",
        "# \"Content-Disposition\",\n",
        "# f\"attachment; filename= attachment.csv\")\n",
        "# msg.attach(msg_attach)\n",
        "\n",
        "textStream = StringIO()\n",
        "q_df.to_csv(textStream,index=True)\n",
        "msg.attach(MIMEApplication(textStream.getvalue(), Name=\"to_quote.csv\"))\n",
        "\n",
        "\n",
        "password = \"tqahcfjmgckkgcpc\"\n",
        "\n",
        "# SMTP.starttls() #[keyfile[, certfile]]\n",
        "server = smtplib.SMTP_SSL('smtp.gmail.com', 465)\n",
        "server.login(sender, password)\n",
        "server.sendmail(msg['From'], emaillist , msg.as_string())\n",
        "server.quit()"
      ]
    },
    {
      "cell_type": "code",
      "execution_count": null,
      "metadata": {
        "id": "ASvkJDCkMCIQ"
      },
      "outputs": [],
      "source": []
    }
  ],
  "metadata": {
    "colab": {
      "provenance": []
    },
    "gpuClass": "standard",
    "kernelspec": {
      "display_name": "PythonData",
      "language": "python",
      "name": "pythondata"
    },
    "language_info": {
      "codemirror_mode": {
        "name": "ipython",
        "version": 3
      },
      "file_extension": ".py",
      "mimetype": "text/x-python",
      "name": "python",
      "nbconvert_exporter": "python",
      "pygments_lexer": "ipython3",
      "version": "3.7.13"
    }
  },
  "nbformat": 4,
  "nbformat_minor": 0
}
