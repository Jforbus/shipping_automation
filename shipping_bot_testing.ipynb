{
  "nbformat": 4,
  "nbformat_minor": 0,
  "metadata": {
    "colab": {
      "provenance": []
    },
    "kernelspec": {
      "name": "python3",
      "display_name": "Python 3"
    },
    "language_info": {
      "name": "python"
    },
    "gpuClass": "standard"
  },
  "cells": [
    {
      "cell_type": "markdown",
      "source": [
        "## Install packages\n",
        "GSpread to handle google sheets <br>\n",
        "Pandas and Numpy for data handling and analysis <br>\n",
        "Pyplot for visuals <br>\n",
        "google.colab.auth for authentications <br>\n"
      ],
      "metadata": {
        "id": "tjVZjSTPq7uI"
      }
    },
    {
      "cell_type": "code",
      "execution_count": null,
      "metadata": {
        "id": "nX1PmtVSgfK_"
      },
      "outputs": [],
      "source": [
        "#!pip install jupyter_datatables -q\n",
        "#!pip install skimpy\n",
        "import gspread_dataframe as gd\n",
        "import gspread as gs\n",
        "import pandas as pd\n",
        "import numpy as np\n",
        "import matplotlib.pyplot as plt\n",
        "#from jupyter_datatables import init_datatables_mode\n",
        "from google.colab import auth\n",
        "from google.auth import default\n",
        "#from skimpy import skim\n",
        "from datetime import date\n",
        "import time"
      ]
    },
    {
      "cell_type": "code",
      "source": [
        "#init_datatables_mode()"
      ],
      "metadata": {
        "id": "SAWFp-kFy-6s"
      },
      "execution_count": null,
      "outputs": []
    },
    {
      "cell_type": "markdown",
      "source": [
        "## Authenticate with Google Sheets\n",
        "use the authenticate_user() function from google.colab.auth to authenticate on your Google Sheets account and pass the credentials to GSpread using gs.authorize()"
      ],
      "metadata": {
        "id": "P1I2iPtOq4go"
      }
    },
    {
      "cell_type": "code",
      "source": [
        "auth.authenticate_user() # prompts google sign in\n",
        "creds, _ = default() # get default credentials from auth\n",
        "\n",
        "gc = gs.authorize(creds) # pass credentials to gspread"
      ],
      "metadata": {
        "id": "n0vBhWRctXxq"
      },
      "execution_count": null,
      "outputs": []
    },
    {
      "cell_type": "markdown",
      "source": [
        "### Sheet URLS"
      ],
      "metadata": {
        "id": "wG3RGIZ5vMvP"
      }
    },
    {
      "cell_type": "code",
      "source": [
        "VI = 'https://docs.google.com/spreadsheets/d/1bKwL32NDnkvZQdiba4pqfvvGDkqh9CBO3akwBV-uJEc/edit#gid=27' # Production Data, Input Sheet\n",
        "LM = 'https://docs.google.com/spreadsheets/d/1vP8FzyoRfl1bnO4kSQa6t2xg5RdN4w8u0RAbd6rPzEM/edit#gid=0' # Shipping Data, Output Sheet for Cali Shipping Operations"
      ],
      "metadata": {
        "id": "yFzkxbvmol7n"
      },
      "execution_count": null,
      "outputs": []
    },
    {
      "cell_type": "code",
      "source": [
        "# helper function for handling gsheets using gspread_dataframe\n",
        "# has 3 modes, w - write: replace existing sheet data, a - append: keep existing data and add new\n",
        "# r - read: read data from gsheets\n",
        "# https://stackoverflow.com/questions/45540827/appending-pandas-data-frame-to-google-spreadsheet\n",
        "\n",
        "\n",
        "def pandas_to_sheets(url,ws_name,df=None,mode='r'):\n",
        "\n",
        "    # helper function for handling gsheets using gspread and gspread_dataframe\n",
        "    # has 3 modes, w - write: replace existing sheet data, a - append: keep existing data and add new\n",
        "    # r - read: read data from gsheets\n",
        "    # https://stackoverflow.com/questions/45540827/appending-pandas-data-frame-to-google-spreadsheet\n",
        "\n",
        "\n",
        "    ws = gc.open_by_url(url).worksheet(ws_name) # open worksheet by GSheet URL and worksheet name\n",
        "    # clear and write new data to worsheet\n",
        "    if(mode=='w'):\n",
        "        ws.clear()\n",
        "        gd.set_with_dataframe(worksheet=ws,dataframe=df,include_index=False,include_column_header=True,resize=True)\n",
        "        return True\n",
        "    # append new data to existing data in worksheet\n",
        "    elif(mode=='a'):\n",
        "        ws.add_rows(df.shape[0])\n",
        "        gd.set_with_dataframe(worksheet=ws,dataframe=df,include_index=False,include_column_header=False,row=len(ws.get_all_values())+1,resize=False)\n",
        "        return True\n",
        "    # get data from worksheet as df, here including only necessary columns for shipping robot.\n",
        "    else:\n",
        "        return gd.get_as_dataframe(worksheet=ws,usecols=[2,3,4,5,9,15,16,20,22], header=1)"
      ],
      "metadata": {
        "id": "xe5MfAQxDZ_s"
      },
      "execution_count": null,
      "outputs": []
    },
    {
      "cell_type": "markdown",
      "source": [
        "## Collect Data\n",
        "Open VI spreadsheet and load data to pandas using created function"
      ],
      "metadata": {
        "id": "lxGnQfdtv6uA"
      }
    },
    {
      "cell_type": "code",
      "source": [
        "vi_df = pandas_to_sheets(VI,\"PR\") # get production data from gsheets using helper function\n",
        "vi_df.fillna(\"\",inplace=True) # Remove Nonetypes"
      ],
      "metadata": {
        "id": "sfLr40QvNfWx"
      },
      "execution_count": null,
      "outputs": []
    },
    {
      "cell_type": "code",
      "source": [
        "# this uses gspread vanilla and creates the dataframe from a selection of rows\n",
        "# code within pandas_to_sheets accomplishes this in a single line\n",
        "\n",
        "\n",
        "# vi_sh = gc.open_by_url(VI) # Open Workbook\n",
        "# vi_sh = vi_sh.worksheet('PR') # Select Worksheet\n",
        "# vi_df = pd.DataFrame(vi_sh.get('B2:W900')) # Select Range for Import or use get_all_records()\n",
        "# vi_df.columns = vi_df.iloc[0] # Set Header Row\n",
        "# vi_df = vi_df[1:].copy() # Drop Duplicate Row\n",
        "# vi_df.fillna(\"\",inplace=True) # Remove Nonetypes"
      ],
      "metadata": {
        "id": "0Y2wQmHmv6WH"
      },
      "execution_count": null,
      "outputs": []
    },
    {
      "cell_type": "code",
      "source": [
        "#skim(vi_df)"
      ],
      "metadata": {
        "id": "xIrbEaX6Js2f"
      },
      "execution_count": null,
      "outputs": []
    },
    {
      "cell_type": "markdown",
      "source": [
        "Drop unecessary columns"
      ],
      "metadata": {
        "id": "WXE7zPJu86Py"
      }
    },
    {
      "cell_type": "code",
      "source": [
        "# deprecated by pandas_to_sheets\n",
        "\n",
        "# vi_df.rename(columns={'® = REVISED' : 'Build'}, inplace=True) # rename first column\n",
        "# c = ['VIN #', 'Body Type', 'Truck Type', 'Customer','Notes','Est. Ship Date', \\\n",
        "#      'Delivery Cost', 'Shipper', 'Shipping Arranger', \\\n",
        "#      'Pick up #', 'Shipping Address' ] # Select Columns to Keep\n",
        "# inv_df = vi_df[c].copy() # Copy Columns to Keep to new DF\n",
        "# inv_df.replace(r'^\\s*$', np.NaN, regex=True, inplace=True) # Fill Empty Cells with NaN"
      ],
      "metadata": {
        "id": "xCJ3aXz189dm"
      },
      "execution_count": null,
      "outputs": []
    },
    {
      "cell_type": "markdown",
      "source": [
        "Select Cali and TX Completed Units and Seperate into Individual DFs"
      ],
      "metadata": {
        "id": "3YUc8sFhDGAA"
      }
    },
    {
      "cell_type": "code",
      "source": [
        "ca_start = vi_df[vi_df['VIN #'].str.match('COMPLETED WEST', na=False)].index[0] # find start of CA Completed units\n",
        "cdf = vi_df.iloc[ca_start+2:] # remove data before selection\n",
        "ca_end = cdf[cdf['VIN #'] == ''].index[0] # find end of CA Completed units\n",
        "ca_df = vi_df.iloc[ca_start+2:ca_end].copy() # Select CA Completed Units into new DF"
      ],
      "metadata": {
        "id": "r1QGDzII9AvM"
      },
      "execution_count": null,
      "outputs": []
    },
    {
      "cell_type": "code",
      "source": [
        "tx_start = vi_df[vi_df['VIN #'].str.match('COMPLETED EAST', na=False)].index[0] # find start of TX Completed units\n",
        "tdf = vi_df.iloc[tx_start+1:] # remove data before selection\n",
        "tx_end = tdf[tdf['VIN #'] == ''].index[0] # find end of TX Completed units\n",
        "tx_df = vi_df.iloc[tx_start+1:tx_end].copy() # Select TX Completed Units into new DF\n"
      ],
      "metadata": {
        "id": "-dpUCZOrfLzJ"
      },
      "execution_count": null,
      "outputs": []
    },
    {
      "cell_type": "markdown",
      "source": [
        "Filter out Will Call and other units not ready for shipping"
      ],
      "metadata": {
        "id": "Maz4RoE5C7EQ"
      }
    },
    {
      "cell_type": "code",
      "source": [
        "# Filter DFs to only include ready to ship units that have not been scheduled\n",
        "ca_df['Notes'] = ca_df['Notes'].str.lower() # lowercase all letters for string matching\n",
        "ca_df = ca_df[(ca_df['Notes'].str.contains('shipping docs ready|ready to ship')) & (ca_df['Shipping Arranger'] != 'WILL CALL') & (ca_df['Est. Ship Date'] == \"\")] # filter DF\n",
        "\n",
        "tx_df['Notes'] = tx_df['Notes'].str.lower() # lowercase all letters for string matching\n",
        "tx_df = tx_df[(tx_df['Notes'].str.contains('shipping docs ready|ready to ship')) & (tx_df['Shipping Arranger'] != 'WILL CALL') & (tx_df['Est. Ship Date'] == \"\")] # filter DF\n",
        "\n",
        "ca_qty = len(ca_df)\n",
        "tx_qty = len(tx_df)"
      ],
      "metadata": {
        "id": "nAWiEaXb9ogR"
      },
      "execution_count": null,
      "outputs": []
    },
    {
      "cell_type": "code",
      "source": [
        "# remove duplicate location info from customer column\n",
        "ca_df['Customer'] = ca_df[\"Customer\"].str.extract(r'(.*-)')\n",
        "tx_df['Customer'] = tx_df[\"Customer\"].str.extract(r'(.*-)')"
      ],
      "metadata": {
        "id": "4CWyLiNlxLYM"
      },
      "execution_count": null,
      "outputs": []
    },
    {
      "cell_type": "markdown",
      "source": [
        "# Create Shipping Tables"
      ],
      "metadata": {
        "id": "2p7Qzsg7DMrr"
      }
    },
    {
      "cell_type": "code",
      "source": [
        "# reference dictionaries\n",
        "\n",
        "# dictionary of Dimensions\n",
        "dims = {\n",
        "    \"4000\" : \"35'L x 8'W x 10'H x 22,000lbs\",\n",
        "    \"2000\" : \"25'L x 8'W x 9'H x 15,000lbs\",\n",
        "    \"10\" : \"25'L x 8'W x 9'H x 15,000lbs\",\n",
        "    \"15\" : \"30'L x 8'W x 9'H x 15,000lbs\",\n",
        "    \"WATER TOWER\" : \"36'L x 8'W x 13'H x 19,500lbs\"\n",
        "}\n",
        "# dictionary of Models\n",
        "models = {\n",
        "    \"MA\" : \"MACK\",\n",
        "    \"M2\" : \"FRLR\",\n",
        "    \"SD\" : \"FRLR\",\n",
        "    \"F7\" : \"FORD\",\n",
        "    \"F5\" : \"FORD\",\n",
        "    \"F6\" : \"FORD\",\n",
        "    \"KW\" : \"KW\",\n",
        "    \"PB\" : \"PB\",\n",
        "    \"INT\" : \"INT\"\n",
        "}\n",
        "# dictionary of Axle quantities\n",
        "axles = {\n",
        "    \"132\" : \"3-Axle\",\n",
        "    \"084\" : \"2-Axle\",\n",
        "    \"096\" : \"2-Axle\",\n",
        "    \"108\" : \"2-Axle\",\n",
        "    \"120\" : \"2-Axle\",\n",
        "    \"168\" : \"2-Axle\",\n",
        "    \"170\" : \"2-Axle\" \n",
        "}\n",
        "\n",
        "origins = {\n",
        "    \"TX\" : \"1954 MFG - 4688 SH-16, GRAHAM, TX 76450\",\n",
        "    \"CA\" : \"VALEW - 12522 VIOLET RD, ADELANTO, CA 92301\"\n",
        "}"
      ],
      "metadata": {
        "id": "3lXP64PyKrXr"
      },
      "execution_count": null,
      "outputs": []
    },
    {
      "cell_type": "code",
      "source": [
        "tx_df.columns"
      ],
      "metadata": {
        "colab": {
          "base_uri": "https://localhost:8080/"
        },
        "id": "uKhnAGqN__lm",
        "outputId": "27eded8d-0bfa-4c64-e2a1-87121d460b29"
      },
      "execution_count": null,
      "outputs": [
        {
          "output_type": "execute_result",
          "data": {
            "text/plain": [
              "Index(['VIN #', 'Body Type', 'Truck Type', 'Customer', 'Notes',\n",
              "       'Est. Ship Date', 'Delivery Cost', 'Shipping Arranger',\n",
              "       'Shipping Address'],\n",
              "      dtype='object')"
            ]
          },
          "metadata": {},
          "execution_count": 19
        }
      ]
    },
    {
      "cell_type": "code",
      "source": [
        "# create item descriptions\n",
        "import re\n",
        "a1 = time.time()\n",
        "test = []\n",
        "\n",
        "for row in ca_df.itertuples(index=False, name=None):\n",
        "  vin = row[0][-6:]\n",
        "  model = models[row[2][:2]]\n",
        "  axle = axles[row[2][-3:]]\n",
        "  item = f\"{model} {axle} TRUCK X 1\"\n",
        "  origin = origins['CA']\n",
        "  dest = f\"{row[3]} {row[-1]}\"\n",
        "  rate = row[6]\n",
        "  dim = dims[re.search(r'(^\\d+)|(WATER TOWER)', row[1])[0]]\n",
        "  rts = date.today().strftime(\"%m/%d/%Y\") \n",
        "\n",
        "  test.append({\"STATUS\":\"\", \"LOAD #\":\"\", \"VIN\" : vin, \"TOTAL DIMENSIONS\" : dim, \"ORIGIN\": origin, \"DESTINATION\" : dest,\n",
        "           \"ITEM DESCRIPTION\" : item, \"RATE\" : rate, \"READY TO SHIP\" : rts})\n",
        "test_df = pd.DataFrame(test)\n",
        "b1 = time.time()\n",
        "print(b1-a1)\n",
        "test_df.head()"
      ],
      "metadata": {
        "id": "31RrrDTx25vx",
        "colab": {
          "base_uri": "https://localhost:8080/",
          "height": 128
        },
        "outputId": "259b0173-753a-47e5-9057-23e95a846caf"
      },
      "execution_count": null,
      "outputs": [
        {
          "output_type": "stream",
          "name": "stdout",
          "text": [
            "0.0030624866485595703\n"
          ]
        },
        {
          "output_type": "execute_result",
          "data": {
            "text/plain": [
              "  STATUS LOAD #     VIN              TOTAL DIMENSIONS  \\\n",
              "0                F02223  25'L x 8'W x 9'H x 15,000lbs   \n",
              "1                F02233  25'L x 8'W x 9'H x 15,000lbs   \n",
              "\n",
              "                                        ORIGIN  \\\n",
              "0  VALEW - 12522 VIOLET RD, ADELANTO, CA 92301   \n",
              "1  VALEW - 12522 VIOLET RD, ADELANTO, CA 92301   \n",
              "\n",
              "                                         DESTINATION       ITEM DESCRIPTION  \\\n",
              "0  ARI / UNITED - 17700 WEST VALLEY HIGHWAY TUKWI...  FORD 2-Axle TRUCK X 1   \n",
              "1  ARI / UNITED - 11200 IRON BRIDGE RD CHESTER, V...  FORD 2-Axle TRUCK X 1   \n",
              "\n",
              "   RATE READY TO SHIP  \n",
              "0  4700    02/20/2023  \n",
              "1  5900    02/20/2023  "
            ],
            "text/html": [
              "\n",
              "  <div id=\"df-901530fb-7d2d-4b2d-9902-10c52049082f\">\n",
              "    <div class=\"colab-df-container\">\n",
              "      <div>\n",
              "<style scoped>\n",
              "    .dataframe tbody tr th:only-of-type {\n",
              "        vertical-align: middle;\n",
              "    }\n",
              "\n",
              "    .dataframe tbody tr th {\n",
              "        vertical-align: top;\n",
              "    }\n",
              "\n",
              "    .dataframe thead th {\n",
              "        text-align: right;\n",
              "    }\n",
              "</style>\n",
              "<table border=\"1\" class=\"dataframe\">\n",
              "  <thead>\n",
              "    <tr style=\"text-align: right;\">\n",
              "      <th></th>\n",
              "      <th>STATUS</th>\n",
              "      <th>LOAD #</th>\n",
              "      <th>VIN</th>\n",
              "      <th>TOTAL DIMENSIONS</th>\n",
              "      <th>ORIGIN</th>\n",
              "      <th>DESTINATION</th>\n",
              "      <th>ITEM DESCRIPTION</th>\n",
              "      <th>RATE</th>\n",
              "      <th>READY TO SHIP</th>\n",
              "    </tr>\n",
              "  </thead>\n",
              "  <tbody>\n",
              "    <tr>\n",
              "      <th>0</th>\n",
              "      <td></td>\n",
              "      <td></td>\n",
              "      <td>F02223</td>\n",
              "      <td>25'L x 8'W x 9'H x 15,000lbs</td>\n",
              "      <td>VALEW - 12522 VIOLET RD, ADELANTO, CA 92301</td>\n",
              "      <td>ARI / UNITED - 17700 WEST VALLEY HIGHWAY TUKWI...</td>\n",
              "      <td>FORD 2-Axle TRUCK X 1</td>\n",
              "      <td>4700</td>\n",
              "      <td>02/20/2023</td>\n",
              "    </tr>\n",
              "    <tr>\n",
              "      <th>1</th>\n",
              "      <td></td>\n",
              "      <td></td>\n",
              "      <td>F02233</td>\n",
              "      <td>25'L x 8'W x 9'H x 15,000lbs</td>\n",
              "      <td>VALEW - 12522 VIOLET RD, ADELANTO, CA 92301</td>\n",
              "      <td>ARI / UNITED - 11200 IRON BRIDGE RD CHESTER, V...</td>\n",
              "      <td>FORD 2-Axle TRUCK X 1</td>\n",
              "      <td>5900</td>\n",
              "      <td>02/20/2023</td>\n",
              "    </tr>\n",
              "  </tbody>\n",
              "</table>\n",
              "</div>\n",
              "      <button class=\"colab-df-convert\" onclick=\"convertToInteractive('df-901530fb-7d2d-4b2d-9902-10c52049082f')\"\n",
              "              title=\"Convert this dataframe to an interactive table.\"\n",
              "              style=\"display:none;\">\n",
              "        \n",
              "  <svg xmlns=\"http://www.w3.org/2000/svg\" height=\"24px\"viewBox=\"0 0 24 24\"\n",
              "       width=\"24px\">\n",
              "    <path d=\"M0 0h24v24H0V0z\" fill=\"none\"/>\n",
              "    <path d=\"M18.56 5.44l.94 2.06.94-2.06 2.06-.94-2.06-.94-.94-2.06-.94 2.06-2.06.94zm-11 1L8.5 8.5l.94-2.06 2.06-.94-2.06-.94L8.5 2.5l-.94 2.06-2.06.94zm10 10l.94 2.06.94-2.06 2.06-.94-2.06-.94-.94-2.06-.94 2.06-2.06.94z\"/><path d=\"M17.41 7.96l-1.37-1.37c-.4-.4-.92-.59-1.43-.59-.52 0-1.04.2-1.43.59L10.3 9.45l-7.72 7.72c-.78.78-.78 2.05 0 2.83L4 21.41c.39.39.9.59 1.41.59.51 0 1.02-.2 1.41-.59l7.78-7.78 2.81-2.81c.8-.78.8-2.07 0-2.86zM5.41 20L4 18.59l7.72-7.72 1.47 1.35L5.41 20z\"/>\n",
              "  </svg>\n",
              "      </button>\n",
              "      \n",
              "  <style>\n",
              "    .colab-df-container {\n",
              "      display:flex;\n",
              "      flex-wrap:wrap;\n",
              "      gap: 12px;\n",
              "    }\n",
              "\n",
              "    .colab-df-convert {\n",
              "      background-color: #E8F0FE;\n",
              "      border: none;\n",
              "      border-radius: 50%;\n",
              "      cursor: pointer;\n",
              "      display: none;\n",
              "      fill: #1967D2;\n",
              "      height: 32px;\n",
              "      padding: 0 0 0 0;\n",
              "      width: 32px;\n",
              "    }\n",
              "\n",
              "    .colab-df-convert:hover {\n",
              "      background-color: #E2EBFA;\n",
              "      box-shadow: 0px 1px 2px rgba(60, 64, 67, 0.3), 0px 1px 3px 1px rgba(60, 64, 67, 0.15);\n",
              "      fill: #174EA6;\n",
              "    }\n",
              "\n",
              "    [theme=dark] .colab-df-convert {\n",
              "      background-color: #3B4455;\n",
              "      fill: #D2E3FC;\n",
              "    }\n",
              "\n",
              "    [theme=dark] .colab-df-convert:hover {\n",
              "      background-color: #434B5C;\n",
              "      box-shadow: 0px 1px 3px 1px rgba(0, 0, 0, 0.15);\n",
              "      filter: drop-shadow(0px 1px 2px rgba(0, 0, 0, 0.3));\n",
              "      fill: #FFFFFF;\n",
              "    }\n",
              "  </style>\n",
              "\n",
              "      <script>\n",
              "        const buttonEl =\n",
              "          document.querySelector('#df-901530fb-7d2d-4b2d-9902-10c52049082f button.colab-df-convert');\n",
              "        buttonEl.style.display =\n",
              "          google.colab.kernel.accessAllowed ? 'block' : 'none';\n",
              "\n",
              "        async function convertToInteractive(key) {\n",
              "          const element = document.querySelector('#df-901530fb-7d2d-4b2d-9902-10c52049082f');\n",
              "          const dataTable =\n",
              "            await google.colab.kernel.invokeFunction('convertToInteractive',\n",
              "                                                     [key], {});\n",
              "          if (!dataTable) return;\n",
              "\n",
              "          const docLinkHtml = 'Like what you see? Visit the ' +\n",
              "            '<a target=\"_blank\" href=https://colab.research.google.com/notebooks/data_table.ipynb>data table notebook</a>'\n",
              "            + ' to learn more about interactive tables.';\n",
              "          element.innerHTML = '';\n",
              "          dataTable['output_type'] = 'display_data';\n",
              "          await google.colab.output.renderOutput(dataTable, element);\n",
              "          const docLink = document.createElement('div');\n",
              "          docLink.innerHTML = docLinkHtml;\n",
              "          element.appendChild(docLink);\n",
              "        }\n",
              "      </script>\n",
              "    </div>\n",
              "  </div>\n",
              "  "
            ]
          },
          "metadata": {},
          "execution_count": 11
        }
      ]
    },
    {
      "cell_type": "code",
      "source": [
        "# test perfomance of list comprehension to collect data and iterows. What is itertuples? Didnt need itertuples, solved with list comprehension,\n",
        "# still would like to time the operations of each for comparison\n",
        "a = time.time()\n",
        "# list comprehension\n",
        "ca_vins = [x[-6:] for x in ca_df['VIN #']] # extract last 6 digits of VIN #\n",
        "ca_dims = [dims[x] for x in ca_df['Body Type'].str.extract(r'(^\\d+)|(WATER TOWER)')[0]] # lookup dimensions for body style in created dict\n",
        "ca_dest = [x for x in ca_df[['Customer', 'Shipping Address']].apply(' '.join, axis=1)] # Comine Customer Name and Shipping Address for Destination Info\n",
        "ca_item = [f'{models[x[:2]]} {axles[x[-3:]]} Truck X 1' for x in ca_df['Truck Type']] # create item descriptions from lookups\n",
        "ca_rate = [x for x in ca_df['Delivery Cost']] # get delivery cost\n",
        "ca_rts = [date.today().strftime(\"%m/%d/%Y\") for x in range(len(ca_df))] # todays date\n",
        "ca_origin = [origins[\"CA\"] for x in range(len(ca_df))] # origin address\n",
        "ca_stat = ['TBD' for x in range(len(ca_df))]\n",
        "ca_id = ['TBD' for x in range(len(ca_df))]\n",
        "\n",
        "ca_dict = {\"STATUS\":\"\", \"LOAD #\":\"\", \"VIN\" : ca_vins, \"TOTAL DIMENSIONS\" : ca_dims, \"ORIGIN\": ca_origin, \"DESTINATION\" : ca_dest,\n",
        "           \"ITEM DESCRIPTION\" : ca_item, \"RATE\" : ca_rate, \"READY TO SHIP\" : ca_rts}\n",
        "\n",
        "ca_shipping = pd.DataFrame(ca_dict)\n",
        "b = time.time()\n",
        "print(b-a)\n",
        "ca_shipping.head(6)"
      ],
      "metadata": {
        "id": "hEg7O_3IXBJb",
        "colab": {
          "base_uri": "https://localhost:8080/",
          "height": 128
        },
        "outputId": "29ddcf92-8bf0-4e5e-c58e-61bd4ee42d6e"
      },
      "execution_count": null,
      "outputs": [
        {
          "output_type": "stream",
          "name": "stdout",
          "text": [
            "0.010166406631469727\n"
          ]
        },
        {
          "output_type": "execute_result",
          "data": {
            "text/plain": [
              "  STATUS LOAD #     VIN              TOTAL DIMENSIONS  \\\n",
              "0                F02223  25'L x 8'W x 9'H x 15,000lbs   \n",
              "1                F02233  25'L x 8'W x 9'H x 15,000lbs   \n",
              "\n",
              "                                        ORIGIN  \\\n",
              "0  VALEW - 12522 VIOLET RD, ADELANTO, CA 92301   \n",
              "1  VALEW - 12522 VIOLET RD, ADELANTO, CA 92301   \n",
              "\n",
              "                                         DESTINATION       ITEM DESCRIPTION  \\\n",
              "0  ARI / UNITED - 17700 WEST VALLEY HIGHWAY TUKWI...  FORD 2-Axle Truck X 1   \n",
              "1  ARI / UNITED - 11200 IRON BRIDGE RD CHESTER, V...  FORD 2-Axle Truck X 1   \n",
              "\n",
              "   RATE READY TO SHIP  \n",
              "0  4700    02/20/2023  \n",
              "1  5900    02/20/2023  "
            ],
            "text/html": [
              "\n",
              "  <div id=\"df-6f202c8e-379a-4a06-985e-28202f4c52e3\">\n",
              "    <div class=\"colab-df-container\">\n",
              "      <div>\n",
              "<style scoped>\n",
              "    .dataframe tbody tr th:only-of-type {\n",
              "        vertical-align: middle;\n",
              "    }\n",
              "\n",
              "    .dataframe tbody tr th {\n",
              "        vertical-align: top;\n",
              "    }\n",
              "\n",
              "    .dataframe thead th {\n",
              "        text-align: right;\n",
              "    }\n",
              "</style>\n",
              "<table border=\"1\" class=\"dataframe\">\n",
              "  <thead>\n",
              "    <tr style=\"text-align: right;\">\n",
              "      <th></th>\n",
              "      <th>STATUS</th>\n",
              "      <th>LOAD #</th>\n",
              "      <th>VIN</th>\n",
              "      <th>TOTAL DIMENSIONS</th>\n",
              "      <th>ORIGIN</th>\n",
              "      <th>DESTINATION</th>\n",
              "      <th>ITEM DESCRIPTION</th>\n",
              "      <th>RATE</th>\n",
              "      <th>READY TO SHIP</th>\n",
              "    </tr>\n",
              "  </thead>\n",
              "  <tbody>\n",
              "    <tr>\n",
              "      <th>0</th>\n",
              "      <td></td>\n",
              "      <td></td>\n",
              "      <td>F02223</td>\n",
              "      <td>25'L x 8'W x 9'H x 15,000lbs</td>\n",
              "      <td>VALEW - 12522 VIOLET RD, ADELANTO, CA 92301</td>\n",
              "      <td>ARI / UNITED - 17700 WEST VALLEY HIGHWAY TUKWI...</td>\n",
              "      <td>FORD 2-Axle Truck X 1</td>\n",
              "      <td>4700</td>\n",
              "      <td>02/20/2023</td>\n",
              "    </tr>\n",
              "    <tr>\n",
              "      <th>1</th>\n",
              "      <td></td>\n",
              "      <td></td>\n",
              "      <td>F02233</td>\n",
              "      <td>25'L x 8'W x 9'H x 15,000lbs</td>\n",
              "      <td>VALEW - 12522 VIOLET RD, ADELANTO, CA 92301</td>\n",
              "      <td>ARI / UNITED - 11200 IRON BRIDGE RD CHESTER, V...</td>\n",
              "      <td>FORD 2-Axle Truck X 1</td>\n",
              "      <td>5900</td>\n",
              "      <td>02/20/2023</td>\n",
              "    </tr>\n",
              "  </tbody>\n",
              "</table>\n",
              "</div>\n",
              "      <button class=\"colab-df-convert\" onclick=\"convertToInteractive('df-6f202c8e-379a-4a06-985e-28202f4c52e3')\"\n",
              "              title=\"Convert this dataframe to an interactive table.\"\n",
              "              style=\"display:none;\">\n",
              "        \n",
              "  <svg xmlns=\"http://www.w3.org/2000/svg\" height=\"24px\"viewBox=\"0 0 24 24\"\n",
              "       width=\"24px\">\n",
              "    <path d=\"M0 0h24v24H0V0z\" fill=\"none\"/>\n",
              "    <path d=\"M18.56 5.44l.94 2.06.94-2.06 2.06-.94-2.06-.94-.94-2.06-.94 2.06-2.06.94zm-11 1L8.5 8.5l.94-2.06 2.06-.94-2.06-.94L8.5 2.5l-.94 2.06-2.06.94zm10 10l.94 2.06.94-2.06 2.06-.94-2.06-.94-.94-2.06-.94 2.06-2.06.94z\"/><path d=\"M17.41 7.96l-1.37-1.37c-.4-.4-.92-.59-1.43-.59-.52 0-1.04.2-1.43.59L10.3 9.45l-7.72 7.72c-.78.78-.78 2.05 0 2.83L4 21.41c.39.39.9.59 1.41.59.51 0 1.02-.2 1.41-.59l7.78-7.78 2.81-2.81c.8-.78.8-2.07 0-2.86zM5.41 20L4 18.59l7.72-7.72 1.47 1.35L5.41 20z\"/>\n",
              "  </svg>\n",
              "      </button>\n",
              "      \n",
              "  <style>\n",
              "    .colab-df-container {\n",
              "      display:flex;\n",
              "      flex-wrap:wrap;\n",
              "      gap: 12px;\n",
              "    }\n",
              "\n",
              "    .colab-df-convert {\n",
              "      background-color: #E8F0FE;\n",
              "      border: none;\n",
              "      border-radius: 50%;\n",
              "      cursor: pointer;\n",
              "      display: none;\n",
              "      fill: #1967D2;\n",
              "      height: 32px;\n",
              "      padding: 0 0 0 0;\n",
              "      width: 32px;\n",
              "    }\n",
              "\n",
              "    .colab-df-convert:hover {\n",
              "      background-color: #E2EBFA;\n",
              "      box-shadow: 0px 1px 2px rgba(60, 64, 67, 0.3), 0px 1px 3px 1px rgba(60, 64, 67, 0.15);\n",
              "      fill: #174EA6;\n",
              "    }\n",
              "\n",
              "    [theme=dark] .colab-df-convert {\n",
              "      background-color: #3B4455;\n",
              "      fill: #D2E3FC;\n",
              "    }\n",
              "\n",
              "    [theme=dark] .colab-df-convert:hover {\n",
              "      background-color: #434B5C;\n",
              "      box-shadow: 0px 1px 3px 1px rgba(0, 0, 0, 0.15);\n",
              "      filter: drop-shadow(0px 1px 2px rgba(0, 0, 0, 0.3));\n",
              "      fill: #FFFFFF;\n",
              "    }\n",
              "  </style>\n",
              "\n",
              "      <script>\n",
              "        const buttonEl =\n",
              "          document.querySelector('#df-6f202c8e-379a-4a06-985e-28202f4c52e3 button.colab-df-convert');\n",
              "        buttonEl.style.display =\n",
              "          google.colab.kernel.accessAllowed ? 'block' : 'none';\n",
              "\n",
              "        async function convertToInteractive(key) {\n",
              "          const element = document.querySelector('#df-6f202c8e-379a-4a06-985e-28202f4c52e3');\n",
              "          const dataTable =\n",
              "            await google.colab.kernel.invokeFunction('convertToInteractive',\n",
              "                                                     [key], {});\n",
              "          if (!dataTable) return;\n",
              "\n",
              "          const docLinkHtml = 'Like what you see? Visit the ' +\n",
              "            '<a target=\"_blank\" href=https://colab.research.google.com/notebooks/data_table.ipynb>data table notebook</a>'\n",
              "            + ' to learn more about interactive tables.';\n",
              "          element.innerHTML = '';\n",
              "          dataTable['output_type'] = 'display_data';\n",
              "          await google.colab.output.renderOutput(dataTable, element);\n",
              "          const docLink = document.createElement('div');\n",
              "          docLink.innerHTML = docLinkHtml;\n",
              "          element.appendChild(docLink);\n",
              "        }\n",
              "      </script>\n",
              "    </div>\n",
              "  </div>\n",
              "  "
            ]
          },
          "metadata": {},
          "execution_count": 12
        }
      ]
    },
    {
      "cell_type": "markdown",
      "source": [
        "Iterate through TX Completed DF, Create TX Shipping Info Table"
      ],
      "metadata": {
        "id": "FUWIQj8XDa2W"
      }
    },
    {
      "cell_type": "code",
      "source": [
        "# last row for appending df\n",
        "ws = gc.open_by_url(CA_LM).worksheet(\"TX\")\n",
        "len(ws.get_all_values())+1"
      ],
      "metadata": {
        "id": "qujBCftoD37M",
        "colab": {
          "base_uri": "https://localhost:8080/"
        },
        "outputId": "7e65cd3d-4f36-4ac1-8c39-6f9ffbbda6d2"
      },
      "execution_count": null,
      "outputs": [
        {
          "output_type": "execute_result",
          "data": {
            "text/plain": [
              "115"
            ]
          },
          "metadata": {},
          "execution_count": 18
        }
      ]
    },
    {
      "cell_type": "markdown",
      "source": [
        "Write new shipping info to Output Sheets. Avoid Duplicates."
      ],
      "metadata": {
        "id": "WmRXpYoND6d9"
      }
    },
    {
      "cell_type": "code",
      "source": [
        "# https://stackoverflow.com/questions/5458048/how-can-i-make-a-python-script-standalone-executable-to-run-without-any-dependen\n",
        "# https://medium.com/@alexandre.tkint/send-pandas-data-frame-via-email-in-python-c346314321fa"
      ],
      "metadata": {
        "id": "bIY1-mxyEPri"
      },
      "execution_count": null,
      "outputs": []
    },
    {
      "cell_type": "code",
      "source": [
        "q_df = pandas_to_sheets(VI,\"PR\") # get production data from gsheets using helper function\n",
        "q_df.fillna(\"\",inplace=True) # Remove Nonetypes"
      ],
      "metadata": {
        "id": "pOmZ4OPud8Ai"
      },
      "execution_count": null,
      "outputs": []
    },
    {
      "cell_type": "code",
      "source": [
        "q_df.isna().sum()"
      ],
      "metadata": {
        "colab": {
          "base_uri": "https://localhost:8080/"
        },
        "id": "LIca-bFPEbQ3",
        "outputId": "73ced15a-41a5-449b-fc33-93cc04e9e755"
      },
      "execution_count": null,
      "outputs": [
        {
          "output_type": "execute_result",
          "data": {
            "text/plain": [
              "VIN #                0\n",
              "Body Type            0\n",
              "Truck Type           0\n",
              "Customer             0\n",
              "Notes                0\n",
              "Est. Ship Date       0\n",
              "Delivery Cost        0\n",
              "Shipping Arranger    0\n",
              "Shipping Address     0\n",
              "dtype: int64"
            ]
          },
          "metadata": {},
          "execution_count": 6
        }
      ]
    },
    {
      "cell_type": "code",
      "source": [
        "# select rows where Delivery Cost is empty, Shipping arranger is Valew or 1954, Customer contains United, and Vin number is present\n",
        "\n",
        "q_df['Customer'] = q_df['Customer'].str.lower() # lowercase all letters for string matching\n",
        "q_df = q_df[(q_df['Customer'].str.contains('united')) & (q_df['Shipping Arranger'] != 'WILL CALL') & (q_df['Delivery Cost'].str.match(\"|TBD\")) & (q_df['VIN #'] != 'TBD')] # filter DF\n"
      ],
      "metadata": {
        "id": "R-spYzaaeFeo"
      },
      "execution_count": null,
      "outputs": []
    },
    {
      "cell_type": "code",
      "source": [
        "q_df = pd.DataFrame(q_df.groupby(['Customer','Body Type']).count()['VIN #'])\n",
        "q_df.head(30)"
      ],
      "metadata": {
        "colab": {
          "base_uri": "https://localhost:8080/",
          "height": 237
        },
        "id": "bco5fIm_iptV",
        "outputId": "72999106-c18c-4cfc-ba6c-29232c3f0565"
      },
      "execution_count": null,
      "outputs": [
        {
          "output_type": "execute_result",
          "data": {
            "text/plain": [
              "                                                       VIN #\n",
              "Customer                                  Body Type         \n",
              "ari / united - tbd                        10' DUMP         3\n",
              "                                          2000 TANK        2\n",
              "united rentals - henderson, co            WATER TOWER      6\n",
              "united rentals - south salt lake city, ut WATER TOWER      3\n",
              "united rentals hold conexpo               WATER TOWER      1"
            ],
            "text/html": [
              "\n",
              "  <div id=\"df-8e56d2f9-06b6-4927-8f43-9be87e618b68\">\n",
              "    <div class=\"colab-df-container\">\n",
              "      <div>\n",
              "<style scoped>\n",
              "    .dataframe tbody tr th:only-of-type {\n",
              "        vertical-align: middle;\n",
              "    }\n",
              "\n",
              "    .dataframe tbody tr th {\n",
              "        vertical-align: top;\n",
              "    }\n",
              "\n",
              "    .dataframe thead th {\n",
              "        text-align: right;\n",
              "    }\n",
              "</style>\n",
              "<table border=\"1\" class=\"dataframe\">\n",
              "  <thead>\n",
              "    <tr style=\"text-align: right;\">\n",
              "      <th></th>\n",
              "      <th></th>\n",
              "      <th>VIN #</th>\n",
              "    </tr>\n",
              "    <tr>\n",
              "      <th>Customer</th>\n",
              "      <th>Body Type</th>\n",
              "      <th></th>\n",
              "    </tr>\n",
              "  </thead>\n",
              "  <tbody>\n",
              "    <tr>\n",
              "      <th rowspan=\"2\" valign=\"top\">ari / united - tbd</th>\n",
              "      <th>10' DUMP</th>\n",
              "      <td>3</td>\n",
              "    </tr>\n",
              "    <tr>\n",
              "      <th>2000 TANK</th>\n",
              "      <td>2</td>\n",
              "    </tr>\n",
              "    <tr>\n",
              "      <th>united rentals - henderson, co</th>\n",
              "      <th>WATER TOWER</th>\n",
              "      <td>6</td>\n",
              "    </tr>\n",
              "    <tr>\n",
              "      <th>united rentals - south salt lake city, ut</th>\n",
              "      <th>WATER TOWER</th>\n",
              "      <td>3</td>\n",
              "    </tr>\n",
              "    <tr>\n",
              "      <th>united rentals hold conexpo</th>\n",
              "      <th>WATER TOWER</th>\n",
              "      <td>1</td>\n",
              "    </tr>\n",
              "  </tbody>\n",
              "</table>\n",
              "</div>\n",
              "      <button class=\"colab-df-convert\" onclick=\"convertToInteractive('df-8e56d2f9-06b6-4927-8f43-9be87e618b68')\"\n",
              "              title=\"Convert this dataframe to an interactive table.\"\n",
              "              style=\"display:none;\">\n",
              "        \n",
              "  <svg xmlns=\"http://www.w3.org/2000/svg\" height=\"24px\"viewBox=\"0 0 24 24\"\n",
              "       width=\"24px\">\n",
              "    <path d=\"M0 0h24v24H0V0z\" fill=\"none\"/>\n",
              "    <path d=\"M18.56 5.44l.94 2.06.94-2.06 2.06-.94-2.06-.94-.94-2.06-.94 2.06-2.06.94zm-11 1L8.5 8.5l.94-2.06 2.06-.94-2.06-.94L8.5 2.5l-.94 2.06-2.06.94zm10 10l.94 2.06.94-2.06 2.06-.94-2.06-.94-.94-2.06-.94 2.06-2.06.94z\"/><path d=\"M17.41 7.96l-1.37-1.37c-.4-.4-.92-.59-1.43-.59-.52 0-1.04.2-1.43.59L10.3 9.45l-7.72 7.72c-.78.78-.78 2.05 0 2.83L4 21.41c.39.39.9.59 1.41.59.51 0 1.02-.2 1.41-.59l7.78-7.78 2.81-2.81c.8-.78.8-2.07 0-2.86zM5.41 20L4 18.59l7.72-7.72 1.47 1.35L5.41 20z\"/>\n",
              "  </svg>\n",
              "      </button>\n",
              "      \n",
              "  <style>\n",
              "    .colab-df-container {\n",
              "      display:flex;\n",
              "      flex-wrap:wrap;\n",
              "      gap: 12px;\n",
              "    }\n",
              "\n",
              "    .colab-df-convert {\n",
              "      background-color: #E8F0FE;\n",
              "      border: none;\n",
              "      border-radius: 50%;\n",
              "      cursor: pointer;\n",
              "      display: none;\n",
              "      fill: #1967D2;\n",
              "      height: 32px;\n",
              "      padding: 0 0 0 0;\n",
              "      width: 32px;\n",
              "    }\n",
              "\n",
              "    .colab-df-convert:hover {\n",
              "      background-color: #E2EBFA;\n",
              "      box-shadow: 0px 1px 2px rgba(60, 64, 67, 0.3), 0px 1px 3px 1px rgba(60, 64, 67, 0.15);\n",
              "      fill: #174EA6;\n",
              "    }\n",
              "\n",
              "    [theme=dark] .colab-df-convert {\n",
              "      background-color: #3B4455;\n",
              "      fill: #D2E3FC;\n",
              "    }\n",
              "\n",
              "    [theme=dark] .colab-df-convert:hover {\n",
              "      background-color: #434B5C;\n",
              "      box-shadow: 0px 1px 3px 1px rgba(0, 0, 0, 0.15);\n",
              "      filter: drop-shadow(0px 1px 2px rgba(0, 0, 0, 0.3));\n",
              "      fill: #FFFFFF;\n",
              "    }\n",
              "  </style>\n",
              "\n",
              "      <script>\n",
              "        const buttonEl =\n",
              "          document.querySelector('#df-8e56d2f9-06b6-4927-8f43-9be87e618b68 button.colab-df-convert');\n",
              "        buttonEl.style.display =\n",
              "          google.colab.kernel.accessAllowed ? 'block' : 'none';\n",
              "\n",
              "        async function convertToInteractive(key) {\n",
              "          const element = document.querySelector('#df-8e56d2f9-06b6-4927-8f43-9be87e618b68');\n",
              "          const dataTable =\n",
              "            await google.colab.kernel.invokeFunction('convertToInteractive',\n",
              "                                                     [key], {});\n",
              "          if (!dataTable) return;\n",
              "\n",
              "          const docLinkHtml = 'Like what you see? Visit the ' +\n",
              "            '<a target=\"_blank\" href=https://colab.research.google.com/notebooks/data_table.ipynb>data table notebook</a>'\n",
              "            + ' to learn more about interactive tables.';\n",
              "          element.innerHTML = '';\n",
              "          dataTable['output_type'] = 'display_data';\n",
              "          await google.colab.output.renderOutput(dataTable, element);\n",
              "          const docLink = document.createElement('div');\n",
              "          docLink.innerHTML = docLinkHtml;\n",
              "          element.appendChild(docLink);\n",
              "        }\n",
              "      </script>\n",
              "    </div>\n",
              "  </div>\n",
              "  "
            ]
          },
          "metadata": {},
          "execution_count": 8
        }
      ]
    },
    {
      "cell_type": "markdown",
      "source": [
        "Emailing a DF\n",
        "\n",
        "wrap this up in a function and document it please\n",
        "\n",
        "https://mailtrap.io/blog/python-send-email-gmail/\n",
        "\n",
        "https://stackoverflow.com/questions/50564407/pandas-send-email-containing-dataframe-as-a-visual-table\n",
        "\n",
        "https://stackoverflow.com/questions/30314538/attaching-file-in-python-email"
      ],
      "metadata": {
        "id": "5vxUYV-cY5jG"
      }
    },
    {
      "cell_type": "code",
      "source": [
        "import os\n",
        "from email.mime.text import MIMEText\n",
        "from email.mime.application import MIMEApplication\n",
        "from email.mime.multipart import MIMEMultipart\n",
        "# from email.mime.base import MIMEBase\n",
        "# from email import encoders\n",
        "import smtplib\n",
        "from io import StringIO\n",
        "# def gmail_df(sender, recipients, subject, df, password):\n",
        "\n",
        "sender = '1954jacobf@gmail.com'\n",
        "recipients = 'jacob@1954mfg.com'\n",
        "\n",
        "if type(recipients) == list:\n",
        "  emaillist = [elem.strip().split(',') for elem in recipients]\n",
        "else:\n",
        "  emaillist = recipients\n",
        "\n",
        "msg = MIMEMultipart()\n",
        "msg['Subject'] = \"To Quote\"\n",
        "msg['From'] = sender\n",
        "\n",
        "\n",
        "html = \"\"\"\\\n",
        "<html>\n",
        "  <head></head>\n",
        "  <body>\n",
        "    {0}\n",
        "  </body>\n",
        "</html>\n",
        "\"\"\".format(q_df.to_html())\n",
        "\n",
        "msg_txt = MIMEText(html, 'html')\n",
        "msg.attach(msg_txt)\n",
        "\n",
        "# q_df.to_csv(\"attachment.csv\")\n",
        "\n",
        "# with open(\"attachment.csv\", \"rb\") as attachment:\n",
        "#       # Add the attachment to the message\n",
        "#       msg_attach = MIMEBase(\"application\", \"octet-stream\")\n",
        "#       msg_attach.set_payload((attachment).read())\n",
        "# encoders.encode_base64(msg_attach)\n",
        "# msg_attach.add_header(\n",
        "# \"Content-Disposition\",\n",
        "# f\"attachment; filename= attachment.csv\")\n",
        "# msg.attach(msg_attach)\n",
        "\n",
        "textStream = StringIO()\n",
        "q_df.to_csv(textStream,index=True)\n",
        "msg.attach(MIMEApplication(textStream.getvalue(), Name=\"to_quote.csv\"))\n",
        "\n",
        "\n",
        "password = \"tqahcfjmgckkgcpc\"\n",
        "\n",
        "# SMTP.starttls() #[keyfile[, certfile]]\n",
        "server = smtplib.SMTP_SSL('smtp.gmail.com', 465)\n",
        "server.login(sender, password)\n",
        "server.sendmail(msg['From'], emaillist , msg.as_string())\n",
        "server.quit()"
      ],
      "metadata": {
        "colab": {
          "base_uri": "https://localhost:8080/"
        },
        "id": "vwN175GeiqGq",
        "outputId": "c7686453-d9ee-4539-8609-e1d1ff30496f"
      },
      "execution_count": null,
      "outputs": [
        {
          "output_type": "execute_result",
          "data": {
            "text/plain": [
              "(221,\n",
              " b'2.0.0 closing connection f24-20020ac840d8000000b003b7e8c04d2esm8059607qtm.64 - gsmtp')"
            ]
          },
          "metadata": {},
          "execution_count": 11
        }
      ]
    },
    {
      "cell_type": "code",
      "source": [],
      "metadata": {
        "id": "ASvkJDCkMCIQ"
      },
      "execution_count": null,
      "outputs": []
    }
  ]
}