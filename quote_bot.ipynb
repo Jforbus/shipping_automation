{
  "nbformat": 4,
  "nbformat_minor": 0,
  "metadata": {
    "colab": {
      "provenance": []
    },
    "kernelspec": {
      "name": "python3",
      "display_name": "Python 3"
    },
    "language_info": {
      "name": "python"
    }
  },
  "cells": [
    {
      "cell_type": "markdown",
      "source": [
        "# Automating Data Collection for Units needing Freight Quotes"
      ],
      "metadata": {
        "id": "uN5AoP1OrNF3"
      }
    },
    {
      "cell_type": "code",
      "execution_count": 61,
      "metadata": {
        "id": "yYodwUaKrIB8"
      },
      "outputs": [],
      "source": [
        "# imports\n",
        "\n",
        "# gsheets connection\n",
        "import gspread_dataframe as gd\n",
        "import gspread as gs\n",
        "from google.colab import auth\n",
        "from google.auth import default\n",
        "\n",
        "# data handling\n",
        "from datetime import date\n",
        "import pandas as pd\n",
        "\n",
        "# email handling\n",
        "import os\n",
        "from email.mime.text import MIMEText\n",
        "from email.mime.application import MIMEApplication\n",
        "from email.mime.multipart import MIMEMultipart\n",
        "import smtplib\n",
        "from io import StringIO, BytesIO\n",
        "from email import encoders\n"
      ]
    },
    {
      "cell_type": "markdown",
      "source": [
        "# Connect to Gsheet"
      ],
      "metadata": {
        "id": "0A8WU8uVrOC1"
      }
    },
    {
      "cell_type": "code",
      "source": [
        "auth.authenticate_user() # prompts google sign in\n",
        "creds, _ = default() # get default credentials from auth\n",
        "\n",
        "gc = gs.authorize(creds) # pass credentials to gspread"
      ],
      "metadata": {
        "id": "bPO6ODOarOtt"
      },
      "execution_count": 44,
      "outputs": []
    },
    {
      "cell_type": "markdown",
      "source": [
        "# Collect data using gspread_dataframe"
      ],
      "metadata": {
        "id": "U04wDDBNrT88"
      }
    },
    {
      "cell_type": "code",
      "source": [
        "# Sheet URLS\n",
        "VI = 'https://docs.google.com/spreadsheets/d/1bKwL32NDnkvZQdiba4pqfvvGDkqh9CBO3akwBV-uJEc/edit#gid=27' # Production Data, Input Sheet\n",
        "LM = 'https://docs.google.com/spreadsheets/d/1vP8FzyoRfl1bnO4kSQa6t2xg5RdN4w8u0RAbd6rPzEM/edit#gid=0' # Shipping Data, Output Sheet for Cali Shipping Operations"
      ],
      "metadata": {
        "id": "RNTMEZInrUT-"
      },
      "execution_count": 45,
      "outputs": []
    },
    {
      "cell_type": "code",
      "source": [
        "def pandas_to_sheets(url,ws_name,df=None,mode='r'):\n",
        "\n",
        "    # helper function for handling gsheets using gspread and gspread_dataframe\n",
        "    # has 3 modes, w - write: replace existing sheet data, a - append: keep existing data and add new\n",
        "    # r - read: read data from gsheets\n",
        "   \n",
        "\n",
        "\n",
        "    ws = gc.open_by_url(url).worksheet(ws_name) # open worksheet by GSheet URL and worksheet name\n",
        "    # clear and write new data to worsheet\n",
        "    if(mode=='w'):\n",
        "        ws.clear()\n",
        "        gd.set_with_dataframe(worksheet=ws,dataframe=df,include_index=False,include_column_header=True,resize=True)\n",
        "        return True\n",
        "    # append new data to existing data in worksheet\n",
        "    elif(mode=='a'):\n",
        "        ws.add_rows(df.shape[0])\n",
        "        gd.set_with_dataframe(worksheet=ws,dataframe=df,include_index=False,include_column_header=False,row=len(ws.get_all_values())+1,resize=False)\n",
        "        return True\n",
        "    # get data from worksheet as df, here including only necessary columns for shipping robot.\n",
        "    else:\n",
        "        return gd.get_as_dataframe(worksheet=ws,usecols=[2,3,4,5,9,15,16,20,22], header=1)"
      ],
      "metadata": {
        "id": "1WYvkm-YtqRY"
      },
      "execution_count": 46,
      "outputs": []
    },
    {
      "cell_type": "code",
      "source": [
        "q_df = pandas_to_sheets(VI,\"PR\") # get production data from gsheets using pandas_to_sheets\n",
        "q_df.fillna(\"\",inplace=True) # Remove Nonetypes"
      ],
      "metadata": {
        "id": "gnkNAbsGuD2z"
      },
      "execution_count": 47,
      "outputs": []
    },
    {
      "cell_type": "markdown",
      "source": [
        "# Filter Production Data for Units to Quote"
      ],
      "metadata": {
        "id": "Mfj24QjDrX0d"
      }
    },
    {
      "cell_type": "code",
      "source": [
        "# select rows where Delivery Cost is empty, Shipping arranger is Valew or 1954, and Vin number is present\n",
        "\n",
        "q_df = q_df[(q_df['Shipping Arranger'].str.match('VALEW|1954 MFG') ) & \n",
        "            (q_df['Delivery Cost'].str.match(\"|TBD\")) & \n",
        "            (q_df['VIN #'].str.match(r\".+\\d{4}\")) &\n",
        "            (~q_df['Customer'].str.contains('Slot'))].copy()"
      ],
      "metadata": {
        "id": "oF5Adn1Jraec"
      },
      "execution_count": 48,
      "outputs": []
    },
    {
      "cell_type": "markdown",
      "source": [
        "# Group by delivery address and body type"
      ],
      "metadata": {
        "id": "s15NATlhraVo"
      }
    },
    {
      "cell_type": "code",
      "source": [
        "to_quote = q_df.groupby(['Customer','Body Type', 'Shipping Address']).count()['VIN #']\n",
        "to_quote = pd.DataFrame(to_quote.reset_index()).rename(columns={'VIN #':'Count'})"
      ],
      "metadata": {
        "id": "krWUG_BCraOF",
        "colab": {
          "base_uri": "https://localhost:8080/",
          "height": 457
        },
        "outputId": "8284a192-cc0b-403a-bab3-b5ba6aa72d78"
      },
      "execution_count": 49,
      "outputs": [
        {
          "output_type": "execute_result",
          "data": {
            "text/plain": [
              "                                  Customer  \\\n",
              "0               ARI / UNITED - JACKSON, TN   \n",
              "1                ARI / UNITED - MOBILE, AL   \n",
              "2               ARI / UNITED - ORLANDO, FL   \n",
              "3                       ARI / UNITED - TBD   \n",
              "4     BOTTOM LINE EQUIPMENT - BAYTOWN, TX    \n",
              "5        CASHMAN EQUIPMENT - HENDERSON, NV   \n",
              "6          DANNA FARMS - PLUMAS LAKE, CA ®   \n",
              "7               HOLT OF CA - ELK GROVE, CA   \n",
              "8                 KIRBY SMITH - DALLAS, TX   \n",
              "9     PAY DIRT CONSTRUCTION - VISALIA, CA    \n",
              "10                      PETERSON CAT - TBD   \n",
              "11          UNITED RENTALS - HENDERSON, CO   \n",
              "12  WHEELER MACHINERY - SALT LAKE CITY, UT   \n",
              "\n",
              "                              Body Type  \\\n",
              "0                              10' DUMP   \n",
              "1                              10' DUMP   \n",
              "2                              10' DUMP   \n",
              "3                             2000 TANK   \n",
              "4                             2000 TANK   \n",
              "5                             4000 TANK   \n",
              "6   1000 GAL FUEL & LUBE *CUSTOM PAINT*   \n",
              "7                             2000 TANK   \n",
              "8                            2000 TANK    \n",
              "9                           WATER TOWER   \n",
              "10                         WATER TOWER    \n",
              "11                          WATER TOWER   \n",
              "12         WATER TOWER - Wheeler Decals   \n",
              "\n",
              "                                  Shipping Address  Count  \n",
              "0                                              TBD      1  \n",
              "1           4477 LAUGHLIN DRIVE S MOBILE, AL 36693      1  \n",
              "2      11909 S ORANGE BLOSSOM TR ORLANDO, FL 32837      1  \n",
              "3                                              TBD      2  \n",
              "4            11331 I-10 EAST #3, BAYTWON, TX 77523      4  \n",
              "5      3300 SAINT ROSE PARKWAY, HENDERSON NV 89052      2  \n",
              "6   1001 FEATHER RIVER BLVD, PLUMAS LAKE, CA 95961      1  \n",
              "7          9062 UNION PARK WAY, ELK GROVE CA 95624      4  \n",
              "8                 8505 S CENTRAL EXPWY, DALLAS TX       2  \n",
              "9                31198 ROAD 132, VISALIA, CA 93292      1  \n",
              "10                                             TBD      1  \n",
              "11            9700 ALTON WAY, HENDERSON, CO. 80640      6  \n",
              "12  4901 WEST 2100 SOUTH, SALT LAKE CITY, UT 84210      7  "
            ],
            "text/html": [
              "\n",
              "  <div id=\"df-0b2837a4-044a-486a-911d-75f1c7b2324e\">\n",
              "    <div class=\"colab-df-container\">\n",
              "      <div>\n",
              "<style scoped>\n",
              "    .dataframe tbody tr th:only-of-type {\n",
              "        vertical-align: middle;\n",
              "    }\n",
              "\n",
              "    .dataframe tbody tr th {\n",
              "        vertical-align: top;\n",
              "    }\n",
              "\n",
              "    .dataframe thead th {\n",
              "        text-align: right;\n",
              "    }\n",
              "</style>\n",
              "<table border=\"1\" class=\"dataframe\">\n",
              "  <thead>\n",
              "    <tr style=\"text-align: right;\">\n",
              "      <th></th>\n",
              "      <th>Customer</th>\n",
              "      <th>Body Type</th>\n",
              "      <th>Shipping Address</th>\n",
              "      <th>Count</th>\n",
              "    </tr>\n",
              "  </thead>\n",
              "  <tbody>\n",
              "    <tr>\n",
              "      <th>0</th>\n",
              "      <td>ARI / UNITED - JACKSON, TN</td>\n",
              "      <td>10' DUMP</td>\n",
              "      <td>TBD</td>\n",
              "      <td>1</td>\n",
              "    </tr>\n",
              "    <tr>\n",
              "      <th>1</th>\n",
              "      <td>ARI / UNITED - MOBILE, AL</td>\n",
              "      <td>10' DUMP</td>\n",
              "      <td>4477 LAUGHLIN DRIVE S MOBILE, AL 36693</td>\n",
              "      <td>1</td>\n",
              "    </tr>\n",
              "    <tr>\n",
              "      <th>2</th>\n",
              "      <td>ARI / UNITED - ORLANDO, FL</td>\n",
              "      <td>10' DUMP</td>\n",
              "      <td>11909 S ORANGE BLOSSOM TR ORLANDO, FL 32837</td>\n",
              "      <td>1</td>\n",
              "    </tr>\n",
              "    <tr>\n",
              "      <th>3</th>\n",
              "      <td>ARI / UNITED - TBD</td>\n",
              "      <td>2000 TANK</td>\n",
              "      <td>TBD</td>\n",
              "      <td>2</td>\n",
              "    </tr>\n",
              "    <tr>\n",
              "      <th>4</th>\n",
              "      <td>BOTTOM LINE EQUIPMENT - BAYTOWN, TX</td>\n",
              "      <td>2000 TANK</td>\n",
              "      <td>11331 I-10 EAST #3, BAYTWON, TX 77523</td>\n",
              "      <td>4</td>\n",
              "    </tr>\n",
              "    <tr>\n",
              "      <th>5</th>\n",
              "      <td>CASHMAN EQUIPMENT - HENDERSON, NV</td>\n",
              "      <td>4000 TANK</td>\n",
              "      <td>3300 SAINT ROSE PARKWAY, HENDERSON NV 89052</td>\n",
              "      <td>2</td>\n",
              "    </tr>\n",
              "    <tr>\n",
              "      <th>6</th>\n",
              "      <td>DANNA FARMS - PLUMAS LAKE, CA ®</td>\n",
              "      <td>1000 GAL FUEL &amp; LUBE *CUSTOM PAINT*</td>\n",
              "      <td>1001 FEATHER RIVER BLVD, PLUMAS LAKE, CA 95961</td>\n",
              "      <td>1</td>\n",
              "    </tr>\n",
              "    <tr>\n",
              "      <th>7</th>\n",
              "      <td>HOLT OF CA - ELK GROVE, CA</td>\n",
              "      <td>2000 TANK</td>\n",
              "      <td>9062 UNION PARK WAY, ELK GROVE CA 95624</td>\n",
              "      <td>4</td>\n",
              "    </tr>\n",
              "    <tr>\n",
              "      <th>8</th>\n",
              "      <td>KIRBY SMITH - DALLAS, TX</td>\n",
              "      <td>2000 TANK</td>\n",
              "      <td>8505 S CENTRAL EXPWY, DALLAS TX</td>\n",
              "      <td>2</td>\n",
              "    </tr>\n",
              "    <tr>\n",
              "      <th>9</th>\n",
              "      <td>PAY DIRT CONSTRUCTION - VISALIA, CA</td>\n",
              "      <td>WATER TOWER</td>\n",
              "      <td>31198 ROAD 132, VISALIA, CA 93292</td>\n",
              "      <td>1</td>\n",
              "    </tr>\n",
              "    <tr>\n",
              "      <th>10</th>\n",
              "      <td>PETERSON CAT - TBD</td>\n",
              "      <td>WATER TOWER</td>\n",
              "      <td>TBD</td>\n",
              "      <td>1</td>\n",
              "    </tr>\n",
              "    <tr>\n",
              "      <th>11</th>\n",
              "      <td>UNITED RENTALS - HENDERSON, CO</td>\n",
              "      <td>WATER TOWER</td>\n",
              "      <td>9700 ALTON WAY, HENDERSON, CO. 80640</td>\n",
              "      <td>6</td>\n",
              "    </tr>\n",
              "    <tr>\n",
              "      <th>12</th>\n",
              "      <td>WHEELER MACHINERY - SALT LAKE CITY, UT</td>\n",
              "      <td>WATER TOWER - Wheeler Decals</td>\n",
              "      <td>4901 WEST 2100 SOUTH, SALT LAKE CITY, UT 84210</td>\n",
              "      <td>7</td>\n",
              "    </tr>\n",
              "  </tbody>\n",
              "</table>\n",
              "</div>\n",
              "      <button class=\"colab-df-convert\" onclick=\"convertToInteractive('df-0b2837a4-044a-486a-911d-75f1c7b2324e')\"\n",
              "              title=\"Convert this dataframe to an interactive table.\"\n",
              "              style=\"display:none;\">\n",
              "        \n",
              "  <svg xmlns=\"http://www.w3.org/2000/svg\" height=\"24px\"viewBox=\"0 0 24 24\"\n",
              "       width=\"24px\">\n",
              "    <path d=\"M0 0h24v24H0V0z\" fill=\"none\"/>\n",
              "    <path d=\"M18.56 5.44l.94 2.06.94-2.06 2.06-.94-2.06-.94-.94-2.06-.94 2.06-2.06.94zm-11 1L8.5 8.5l.94-2.06 2.06-.94-2.06-.94L8.5 2.5l-.94 2.06-2.06.94zm10 10l.94 2.06.94-2.06 2.06-.94-2.06-.94-.94-2.06-.94 2.06-2.06.94z\"/><path d=\"M17.41 7.96l-1.37-1.37c-.4-.4-.92-.59-1.43-.59-.52 0-1.04.2-1.43.59L10.3 9.45l-7.72 7.72c-.78.78-.78 2.05 0 2.83L4 21.41c.39.39.9.59 1.41.59.51 0 1.02-.2 1.41-.59l7.78-7.78 2.81-2.81c.8-.78.8-2.07 0-2.86zM5.41 20L4 18.59l7.72-7.72 1.47 1.35L5.41 20z\"/>\n",
              "  </svg>\n",
              "      </button>\n",
              "      \n",
              "  <style>\n",
              "    .colab-df-container {\n",
              "      display:flex;\n",
              "      flex-wrap:wrap;\n",
              "      gap: 12px;\n",
              "    }\n",
              "\n",
              "    .colab-df-convert {\n",
              "      background-color: #E8F0FE;\n",
              "      border: none;\n",
              "      border-radius: 50%;\n",
              "      cursor: pointer;\n",
              "      display: none;\n",
              "      fill: #1967D2;\n",
              "      height: 32px;\n",
              "      padding: 0 0 0 0;\n",
              "      width: 32px;\n",
              "    }\n",
              "\n",
              "    .colab-df-convert:hover {\n",
              "      background-color: #E2EBFA;\n",
              "      box-shadow: 0px 1px 2px rgba(60, 64, 67, 0.3), 0px 1px 3px 1px rgba(60, 64, 67, 0.15);\n",
              "      fill: #174EA6;\n",
              "    }\n",
              "\n",
              "    [theme=dark] .colab-df-convert {\n",
              "      background-color: #3B4455;\n",
              "      fill: #D2E3FC;\n",
              "    }\n",
              "\n",
              "    [theme=dark] .colab-df-convert:hover {\n",
              "      background-color: #434B5C;\n",
              "      box-shadow: 0px 1px 3px 1px rgba(0, 0, 0, 0.15);\n",
              "      filter: drop-shadow(0px 1px 2px rgba(0, 0, 0, 0.3));\n",
              "      fill: #FFFFFF;\n",
              "    }\n",
              "  </style>\n",
              "\n",
              "      <script>\n",
              "        const buttonEl =\n",
              "          document.querySelector('#df-0b2837a4-044a-486a-911d-75f1c7b2324e button.colab-df-convert');\n",
              "        buttonEl.style.display =\n",
              "          google.colab.kernel.accessAllowed ? 'block' : 'none';\n",
              "\n",
              "        async function convertToInteractive(key) {\n",
              "          const element = document.querySelector('#df-0b2837a4-044a-486a-911d-75f1c7b2324e');\n",
              "          const dataTable =\n",
              "            await google.colab.kernel.invokeFunction('convertToInteractive',\n",
              "                                                     [key], {});\n",
              "          if (!dataTable) return;\n",
              "\n",
              "          const docLinkHtml = 'Like what you see? Visit the ' +\n",
              "            '<a target=\"_blank\" href=https://colab.research.google.com/notebooks/data_table.ipynb>data table notebook</a>'\n",
              "            + ' to learn more about interactive tables.';\n",
              "          element.innerHTML = '';\n",
              "          dataTable['output_type'] = 'display_data';\n",
              "          await google.colab.output.renderOutput(dataTable, element);\n",
              "          const docLink = document.createElement('div');\n",
              "          docLink.innerHTML = docLinkHtml;\n",
              "          element.appendChild(docLink);\n",
              "        }\n",
              "      </script>\n",
              "    </div>\n",
              "  </div>\n",
              "  "
            ]
          },
          "metadata": {},
          "execution_count": 49
        }
      ]
    },
    {
      "cell_type": "markdown",
      "source": [
        "# Email the to_quote df"
      ],
      "metadata": {
        "id": "xcvm6pu-raFe"
      }
    },
    {
      "cell_type": "code",
      "source": [
        "def email_df(sender, recipients, subject, df, password):\n",
        "  \n",
        "  # parse recipient if list\n",
        "  if type(recipients) == list:\n",
        "    emaillist = [elem.strip().split(',') for elem in recipients]\n",
        "  else:\n",
        "    emaillist = recipients\n",
        "\n",
        "  # create message, add subject and sender\n",
        "  msg = MIMEMultipart()\n",
        "  msg['Subject'] = subject\n",
        "  msg['From'] = sender\n",
        "\n",
        "  # format df into as html table\n",
        "  html = \"\"\"\\\n",
        "  <html>\n",
        "    <head></head>\n",
        "    <body>\n",
        "      {0}\n",
        "    </body>\n",
        "  </html>\n",
        "  \"\"\".format(df.to_html())\n",
        "  # add table to message body\n",
        "  msg_txt = MIMEText(html, 'html')\n",
        "  msg.attach(msg_txt)\n",
        "\n",
        "  # write df to excel file\n",
        "  df.to_excel(\"attachment.xlsx\")\n",
        "  # open excel file and attach to email\n",
        "  with open(\"attachment.xlsx\", \"rb\") as attachment:\n",
        "        msg_attach = MIMEBase(\"application\", \"octet-stream\")\n",
        "        msg_attach.set_payload((attachment).read())\n",
        "  encoders.encode_base64(msg_attach)\n",
        "  msg_attach.add_header(\n",
        "  \"Content-Disposition\",\n",
        "  f\"attachment; filename= attachment.xlsx\")\n",
        "  msg.attach(msg_attach)\n",
        "  # remove created file\n",
        "  os.remove(\"attachment.xlsx\")\n",
        "\n",
        "  # connect to email server and send email\n",
        "  server = smtplib.SMTP_SSL('smtp.gmail.com', 465)\n",
        "  server.login(sender, password)\n",
        "  server.sendmail(msg['From'], emaillist , msg.as_string())\n",
        "  server.quit()\n",
        "\n",
        "  return print(\"DF EMAILED SUCCESSFULLY\")"
      ],
      "metadata": {
        "id": "955RUZOOrZhc"
      },
      "execution_count": 71,
      "outputs": []
    },
    {
      "cell_type": "markdown",
      "source": [],
      "metadata": {
        "id": "Dug-eUZcrYtO"
      }
    },
    {
      "cell_type": "code",
      "source": [
        "from email.mime.base import MIMEBase\n",
        "today = date.today().strftime(\"%m/%d/%Y\")\n",
        "subject = f\"To Quote {today}\"\n",
        "password = \"tqahcfjmgckkgcpc\"\n",
        "sender = '1954jacobf@gmail.com'\n",
        "recipients = ['jacob@1954mfg.com', 'jacob.forbus@gmail.com', 'christalfaith@outlook.com']\n",
        "\n",
        "email_df(sender, recipients, subject, to_quote, password)"
      ],
      "metadata": {
        "id": "V99Wi81CrYQD",
        "colab": {
          "base_uri": "https://localhost:8080/"
        },
        "outputId": "ffca7671-08f0-409b-c5eb-c362ac2c6fae"
      },
      "execution_count": 73,
      "outputs": [
        {
          "output_type": "stream",
          "name": "stdout",
          "text": [
            "DF EMAILED SUCCESSFULLY\n"
          ]
        }
      ]
    }
  ]
}